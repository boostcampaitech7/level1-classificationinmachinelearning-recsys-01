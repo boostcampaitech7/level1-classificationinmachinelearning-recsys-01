{
 "cells": [
  {
   "cell_type": "code",
   "execution_count": 10,
   "metadata": {},
   "outputs": [],
   "source": [
    "import os\n",
    "from typing import List, Dict\n",
    "from tqdm import tqdm\n",
    "import numpy as np\n",
    "import pandas as pd\n",
    "from sklearn.model_selection import train_test_split\n",
    "from sklearn.metrics import accuracy_score, roc_auc_score\n",
    "import lightgbm as lgb\n",
    "from plotly.subplots import make_subplots\n",
    "import plotly.graph_objects as go\n",
    "import matplotlib.pyplot as plt\n",
    "import seaborn as sns"
   ]
  },
  {
   "cell_type": "code",
   "execution_count": 11,
   "metadata": {},
   "outputs": [],
   "source": [
    "# 파일 호출\n",
    "data_path: str = \"../data\"\n",
    "train_df: pd.DataFrame = pd.read_csv(os.path.join(data_path, \"train.csv\")).assign(_type=\"train\") # train 에는 _type = train \n",
    "test_df: pd.DataFrame = pd.read_csv(os.path.join(data_path, \"test.csv\")).assign(_type=\"test\") # test 에는 _type = test\n",
    "submission_df: pd.DataFrame = pd.read_csv(os.path.join(data_path, \"test.csv\")) # ID, target 열만 가진 데이터 미리 호출\n",
    "df: pd.DataFrame = pd.concat([train_df, test_df], axis=0)"
   ]
  },
  {
   "cell_type": "code",
   "execution_count": 12,
   "metadata": {},
   "outputs": [
    {
     "name": "stderr",
     "output_type": "stream",
     "text": [
      "100%|██████████| 107/107 [00:02<00:00, 37.50it/s]\n"
     ]
    }
   ],
   "source": [
    "# HOURLY_ 로 시작하는 .csv 파일 이름을 file_names 에 할딩\n",
    "file_names: List[str] = [\n",
    "    f for f in os.listdir(data_path) if f.startswith(\"HOURLY_\") and f.endswith(\".csv\")\n",
    "]\n",
    "\n",
    "# 파일명 : 데이터프레임으로 딕셔너리 형태로 저장\n",
    "file_dict: Dict[str, pd.DataFrame] = {\n",
    "    f.replace(\".csv\", \"\"): pd.read_csv(os.path.join(data_path, f)) for f in file_names\n",
    "}\n",
    "\n",
    "for _file_name, _df in tqdm(file_dict.items()):\n",
    "    # 열 이름 중복 방지를 위해 {_file_name.lower()}_{col.lower()}로 변경, datetime 열을 ID로 변경\n",
    "    _rename_rule = {\n",
    "        col: f\"{_file_name.lower()}_{col.lower()}\" if col != \"datetime\" else \"ID\"\n",
    "        for col in _df.columns\n",
    "    }\n",
    "    _df = _df.rename(_rename_rule, axis=1)\n",
    "    df = df.merge(_df, on=\"ID\", how=\"left\")"
   ]
  },
  {
   "cell_type": "code",
   "execution_count": 13,
   "metadata": {},
   "outputs": [],
   "source": [
    "# missing value check\n",
    "\n",
    "train_df = df.loc[df[\"_type\"] == \"train\"]\n",
    "# 각 열에서 누락된 값의 수 & 백분율 계산\n",
    "missing_values = train_df.isnull().sum()\n",
    "missing_percentage = (missing_values / len(train_df)) * 100\n",
    "\n",
    "# 누락된 값 비율을 기준으로 열 정렬\n",
    "sorted_missing_percentage = missing_percentage.sort_values(ascending=False)\n",
    "\n",
    "# missing_value의 비율이 100%가 아닌 column만 추출\n",
    "non_missing_columns = sorted_missing_percentage[sorted_missing_percentage != 100.0].index.tolist()\n",
    "non_missing_columns.remove('ID')\n",
    "non_missing_columns.remove('target')\n",
    "non_missing_columns.remove('_type')\n"
   ]
  },
  {
   "cell_type": "code",
   "execution_count": 14,
   "metadata": {},
   "outputs": [],
   "source": [
    "new_data = train_df[['ID','target', '_type'] + non_missing_columns]"
   ]
  },
  {
   "cell_type": "code",
   "execution_count": 15,
   "metadata": {},
   "outputs": [
    {
     "name": "stdout",
     "output_type": "stream",
     "text": [
      "hourly_market-data_liquidations_ftx_all_symbol_long_liquidations          100.0\n",
      "hourly_market-data_liquidations_okex_btc_usd_short_liquidations_usd       100.0\n",
      "hourly_market-data_open-interest_ftx_open_interest                        100.0\n",
      "hourly_market-data_open-interest_huobi_global_open_interest               100.0\n",
      "hourly_market-data_funding-rates_okex_funding_rates                       100.0\n",
      "hourly_market-data_open-interest_okx_open_interest                        100.0\n",
      "hourly_market-data_liquidations_okex_btc_usd_long_liquidations            100.0\n",
      "hourly_market-data_liquidations_okex_btc_usd_short_liquidations           100.0\n",
      "hourly_market-data_open-interest_okex_open_interest                       100.0\n",
      "hourly_market-data_open-interest_kraken_open_interest                     100.0\n",
      "hourly_market-data_open-interest_deribit_open_interest                    100.0\n",
      "hourly_market-data_open-interest_ftx_btc_usd_open_interest                100.0\n",
      "hourly_market-data_open-interest_binance_open_interest                    100.0\n",
      "hourly_market-data_open-interest_bitfinex_open_interest                   100.0\n",
      "hourly_market-data_open-interest_bitmex_open_interest                     100.0\n",
      "hourly_market-data_open-interest_ftx_all_symbol_open_interest             100.0\n",
      "hourly_market-data_open-interest_bybit_open_interest                      100.0\n",
      "hourly_market-data_liquidations_okex_btc_usdt_long_liquidations           100.0\n",
      "hourly_market-data_liquidations_okex_btc_usdt_short_liquidations          100.0\n",
      "hourly_market-data_liquidations_okex_btc_usdt_long_liquidations_usd       100.0\n",
      "hourly_market-data_liquidations_okex_btc_usdt_short_liquidations_usd      100.0\n",
      "hourly_market-data_open-interest_all_exchange_open_interest               100.0\n",
      "hourly_market-data_liquidations_ftx_btc_usd_long_liquidations             100.0\n",
      "hourly_market-data_liquidations_ftx_btc_usd_short_liquidations            100.0\n",
      "hourly_market-data_liquidations_ftx_btc_usd_long_liquidations_usd         100.0\n",
      "hourly_market-data_liquidations_ftx_btc_usd_short_liquidations_usd        100.0\n",
      "hourly_market-data_liquidations_okex_all_symbol_long_liquidations         100.0\n",
      "hourly_market-data_liquidations_okex_all_symbol_short_liquidations        100.0\n",
      "hourly_market-data_liquidations_okex_all_symbol_long_liquidations_usd     100.0\n",
      "hourly_market-data_liquidations_okex_all_symbol_short_liquidations_usd    100.0\n",
      "hourly_market-data_taker-buy-sell-stats_okex_taker_buy_volume             100.0\n",
      "hourly_market-data_taker-buy-sell-stats_okex_taker_sell_volume            100.0\n",
      "hourly_market-data_taker-buy-sell-stats_okex_taker_buy_ratio              100.0\n",
      "hourly_market-data_taker-buy-sell-stats_okex_taker_sell_ratio             100.0\n",
      "hourly_market-data_taker-buy-sell-stats_okex_taker_buy_sell_ratio         100.0\n",
      "hourly_market-data_liquidations_okex_btc_usd_long_liquidations_usd        100.0\n",
      "hourly_market-data_liquidations_ftx_all_symbol_short_liquidations         100.0\n",
      "hourly_market-data_liquidations_ftx_all_symbol_long_liquidations_usd      100.0\n",
      "hourly_market-data_liquidations_ftx_all_symbol_short_liquidations_usd     100.0\n",
      "hourly_market-data_open-interest_gate_io_open_interest                    100.0\n",
      "dtype: float64\n",
      "40\n"
     ]
    }
   ],
   "source": [
    "columns_with_100_missing = sorted_missing_percentage[sorted_missing_percentage == 100]\n",
    "print(columns_with_100_missing)\n",
    "print(len(columns_with_100_missing))"
   ]
  },
  {
   "cell_type": "code",
   "execution_count": 16,
   "metadata": {},
   "outputs": [
    {
     "name": "stderr",
     "output_type": "stream",
     "text": [
      "/tmp/ipykernel_311322/2767777812.py:7: FutureWarning: DataFrame.fillna with 'method' is deprecated and will raise in a future version. Use obj.ffill() or obj.bfill() instead.\n",
      "  new_df_stab = new_df_stab.fillna(method='ffill').fillna(method='bfill')\n"
     ]
    }
   ],
   "source": [
    "# 이동평균으로 결측치 대체\n",
    "new_df_stab = new_data[non_missing_columns]\n",
    "\n",
    "# train\n",
    "window_size = 3\n",
    "new_df_stab = new_df_stab.apply(lambda col: col.fillna(col.rolling(window=window_size, min_periods=1).mean()))\n",
    "new_df_stab = new_df_stab.fillna(method='ffill').fillna(method='bfill')\n",
    "\n",
    "\n",
    "# 결측치 처리한 new_df 정의\n",
    "new_train_df = pd.concat([new_data[['ID','target','_type']], new_df_stab], axis=1)"
   ]
  },
  {
   "cell_type": "code",
   "execution_count": 17,
   "metadata": {},
   "outputs": [],
   "source": [
    "# nan or inf 데이터 여부 확인\n",
    "for col in non_missing_columns:\n",
    "    if (np.isnan(new_train_df[col]).any()) | (np.isinf(new_train_df[col]).any()):\n",
    "        print(col)\n",
    "        break"
   ]
  },
  {
   "cell_type": "code",
   "execution_count": 18,
   "metadata": {},
   "outputs": [
    {
     "name": "stderr",
     "output_type": "stream",
     "text": [
      "/tmp/ipykernel_311322/3218535113.py:8: FutureWarning: DataFrame.fillna with 'method' is deprecated and will raise in a future version. Use obj.ffill() or obj.bfill() instead.\n",
      "  new_test_stab = new_test_stab.fillna(method='ffill')\n"
     ]
    }
   ],
   "source": [
    "test_df = df.loc[df[\"_type\"] == \"test\"]\n",
    "new_test_df = test_df[['ID','target','_type'] + non_missing_columns]\n",
    "\n",
    "new_test_stab = new_test_df[non_missing_columns]\n",
    "# test\n",
    "window_size = 3\n",
    "new_test_stab = new_test_stab.apply(lambda col: col.fillna(col.rolling(window=window_size, min_periods=1).mean()))\n",
    "new_test_stab = new_test_stab.fillna(method='ffill')\n",
    "\n",
    "new_test_df = pd.concat([new_test_df[['ID','target','_type']], new_test_stab], axis=1)"
   ]
  },
  {
   "cell_type": "code",
   "execution_count": 19,
   "metadata": {},
   "outputs": [
    {
     "data": {
      "text/plain": [
       "['hourly_market-data_liquidations_binance_btc_busd_short_liquidations',\n",
       " 'hourly_market-data_liquidations_binance_btc_busd_long_liquidations_usd',\n",
       " 'hourly_market-data_liquidations_binance_btc_busd_long_liquidations',\n",
       " 'hourly_market-data_liquidations_binance_btc_busd_short_liquidations_usd',\n",
       " 'hourly_market-data_open-interest_binance_btc_busd_open_interest',\n",
       " 'hourly_market-data_price-ohlcv_all_exchange_spot_btc_usd_volume']"
      ]
     },
     "execution_count": 19,
     "metadata": {},
     "output_type": "execute_result"
    }
   ],
   "source": [
    "# 결측치 비율을 계산\n",
    "missing_percentage = new_test_df.isnull().mean() * 100\n",
    "\n",
    "# 결측치 비율이 100%인 컬럼 이름만 출력\n",
    "columns_with_all_missing = missing_percentage[missing_percentage >= 50].index.tolist()\n",
    "\n",
    "# 100% 결측치가 있는 컬럼 출력\n",
    "columns_with_all_missing = [col for col in columns_with_all_missing if col not in ['target', 'hourly_market-data_price-ohlcv_all_exchange_spot_btc_usd_close']]\n",
    "columns_with_all_missing"
   ]
  },
  {
   "cell_type": "code",
   "execution_count": 20,
   "metadata": {},
   "outputs": [],
   "source": [
    "# train_df와 test_df에서 columns_with_all_missing에 있는 컬럼 삭제\n",
    "new_train_df = new_train_df.drop(columns=columns_with_all_missing, errors='ignore')\n",
    "new_test_df = new_test_df.drop(columns=columns_with_all_missing, errors='ignore')"
   ]
  },
  {
   "cell_type": "code",
   "execution_count": 21,
   "metadata": {},
   "outputs": [],
   "source": [
    "# 이동평균을 기반으로 이상치를 처리하는 함수\n",
    "def replace_outlier(df, window=3, threshold=2):\n",
    "    df_cleaned = df.copy()\n",
    "    \n",
    "    # 숫자형 컬럼들에 대해 처리\n",
    "    for column in df_cleaned.select_dtypes(include=[np.number]).columns:\n",
    "        # 이동평균과 표준편차 계산\n",
    "        rolling_mean = df_cleaned[column].rolling(window=window, min_periods=1).mean()\n",
    "        rolling_std = df_cleaned[column].rolling(window=window, min_periods=1).std()\n",
    "\n",
    "        # 이상치 기준 설정\n",
    "        outliers = np.abs(df_cleaned[column] - rolling_mean) > (threshold * rolling_std)\n",
    "\n",
    "        # 이상치를 이동평균으로 대체\n",
    "        df_cleaned.loc[outliers, column] = rolling_mean[outliers]\n",
    "    \n",
    "    return df_cleaned\n",
    "\n",
    "# 이동평균 기반 이상치 처리 적용\n",
    "cleaned_train_df = replace_outlier(new_train_df)\n",
    "cleaned_test_df = replace_outlier(new_test_df)"
   ]
  },
  {
   "cell_type": "code",
   "execution_count": 26,
   "metadata": {},
   "outputs": [],
   "source": [
    "# Standardization으로 정규화\n",
    "from sklearn.preprocessing import StandardScaler\n",
    "\n",
    "def standardization(train_df, test_df):\n",
    "    features_to_scale = [col for col in train_df.columns if col not in ['ID', 'target', '_type']]\n",
    "\n",
    "    scaler = StandardScaler()\n",
    "\n",
    "    # 훈련 데이터 정규화\n",
    "    train_df_scaled = train_df.copy()\n",
    "    train_df_scaled[features_to_scale] = scaler.fit_transform(train_df[features_to_scale])\n",
    "\n",
    "    # 테스트 데이터 정규화\n",
    "    test_df_scaled = test_df.copy()\n",
    "    test_df_scaled[features_to_scale] = scaler.transform(test_df[features_to_scale])\n",
    "\n",
    "    return train_df_scaled, test_df_scaled\n",
    "\n",
    "# 함수 호출\n",
    "std_train_df, std_test_df = standardization(cleaned_train_df, cleaned_test_df)"
   ]
  },
  {
   "cell_type": "code",
   "execution_count": 27,
   "metadata": {},
   "outputs": [
    {
     "name": "stdout",
     "output_type": "stream",
     "text": [
      "Mean Squared Error on Validation Set: 0.0006345718891465544\n"
     ]
    },
    {
     "data": {
      "text/html": [
       "<div>\n",
       "<style scoped>\n",
       "    .dataframe tbody tr th:only-of-type {\n",
       "        vertical-align: middle;\n",
       "    }\n",
       "\n",
       "    .dataframe tbody tr th {\n",
       "        vertical-align: top;\n",
       "    }\n",
       "\n",
       "    .dataframe thead th {\n",
       "        text-align: right;\n",
       "    }\n",
       "</style>\n",
       "<table border=\"1\" class=\"dataframe\">\n",
       "  <thead>\n",
       "    <tr style=\"text-align: right;\">\n",
       "      <th></th>\n",
       "      <th>ID</th>\n",
       "      <th>target</th>\n",
       "      <th>_type</th>\n",
       "      <th>hourly_market-data_funding-rates_bybit_funding_rates</th>\n",
       "      <th>hourly_market-data_taker-buy-sell-stats_bybit_taker_sell_ratio</th>\n",
       "      <th>hourly_market-data_taker-buy-sell-stats_bybit_taker_buy_sell_ratio</th>\n",
       "      <th>hourly_market-data_taker-buy-sell-stats_bybit_taker_buy_ratio</th>\n",
       "      <th>hourly_market-data_taker-buy-sell-stats_bybit_taker_sell_volume</th>\n",
       "      <th>hourly_market-data_taker-buy-sell-stats_bybit_taker_buy_volume</th>\n",
       "      <th>hourly_network-data_fees_fees_reward_percent</th>\n",
       "      <th>...</th>\n",
       "      <th>hourly_network-data_addresses-count_addresses_count_sender</th>\n",
       "      <th>hourly_network-data_addresses-count_addresses_count_receiver</th>\n",
       "      <th>hourly_network-data_block-count_block_count</th>\n",
       "      <th>hourly_network-data_fees_fees_total</th>\n",
       "      <th>hourly_network-data_fees_fees_total_usd</th>\n",
       "      <th>hourly_market-data_price-ohlcv_all_exchange_spot_btc_usd_close</th>\n",
       "      <th>hourly_market-data_liquidations_htx_global_btc_usd_short_liquidations</th>\n",
       "      <th>hourly_market-data_liquidations_htx_global_btc_usd_long_liquidations_usd</th>\n",
       "      <th>hourly_market-data_liquidations_htx_global_btc_usd_short_liquidations_usd</th>\n",
       "      <th>hourly_network-data_utxo-count_utxo_count</th>\n",
       "    </tr>\n",
       "  </thead>\n",
       "  <tbody>\n",
       "    <tr>\n",
       "      <th>8760</th>\n",
       "      <td>2024-01-01 00:00:00</td>\n",
       "      <td>NaN</td>\n",
       "      <td>test</td>\n",
       "      <td>0.862267</td>\n",
       "      <td>-1.106685</td>\n",
       "      <td>0.628514</td>\n",
       "      <td>1.123435</td>\n",
       "      <td>-0.368791</td>\n",
       "      <td>0.047456</td>\n",
       "      <td>3.380109</td>\n",
       "      <td>...</td>\n",
       "      <td>-0.333541</td>\n",
       "      <td>-1.275562</td>\n",
       "      <td>-0.846352</td>\n",
       "      <td>1.945012</td>\n",
       "      <td>2.242378</td>\n",
       "      <td>2.303017</td>\n",
       "      <td>-0.048054</td>\n",
       "      <td>-0.099003</td>\n",
       "      <td>-0.052688</td>\n",
       "      <td>2.198334</td>\n",
       "    </tr>\n",
       "    <tr>\n",
       "      <th>8761</th>\n",
       "      <td>2024-01-01 01:00:00</td>\n",
       "      <td>NaN</td>\n",
       "      <td>test</td>\n",
       "      <td>1.129189</td>\n",
       "      <td>-1.186934</td>\n",
       "      <td>0.709193</td>\n",
       "      <td>1.203588</td>\n",
       "      <td>-0.359145</td>\n",
       "      <td>0.106802</td>\n",
       "      <td>2.357192</td>\n",
       "      <td>...</td>\n",
       "      <td>2.749899</td>\n",
       "      <td>-0.856214</td>\n",
       "      <td>1.958204</td>\n",
       "      <td>4.171627</td>\n",
       "      <td>4.675388</td>\n",
       "      <td>2.306272</td>\n",
       "      <td>-0.048054</td>\n",
       "      <td>-0.099003</td>\n",
       "      <td>-0.052688</td>\n",
       "      <td>2.199442</td>\n",
       "    </tr>\n",
       "    <tr>\n",
       "      <th>8762</th>\n",
       "      <td>2024-01-01 02:00:00</td>\n",
       "      <td>NaN</td>\n",
       "      <td>test</td>\n",
       "      <td>1.435859</td>\n",
       "      <td>0.022434</td>\n",
       "      <td>-0.173300</td>\n",
       "      <td>-0.004335</td>\n",
       "      <td>-0.671636</td>\n",
       "      <td>-0.671125</td>\n",
       "      <td>2.202971</td>\n",
       "      <td>...</td>\n",
       "      <td>0.872912</td>\n",
       "      <td>-0.958328</td>\n",
       "      <td>0.355601</td>\n",
       "      <td>2.247406</td>\n",
       "      <td>2.580664</td>\n",
       "      <td>2.299326</td>\n",
       "      <td>-0.048054</td>\n",
       "      <td>-0.099003</td>\n",
       "      <td>-0.052688</td>\n",
       "      <td>2.200676</td>\n",
       "    </tr>\n",
       "    <tr>\n",
       "      <th>8763</th>\n",
       "      <td>2024-01-01 03:00:00</td>\n",
       "      <td>NaN</td>\n",
       "      <td>test</td>\n",
       "      <td>1.686091</td>\n",
       "      <td>1.514450</td>\n",
       "      <td>-0.737805</td>\n",
       "      <td>-1.494569</td>\n",
       "      <td>0.141968</td>\n",
       "      <td>-0.415430</td>\n",
       "      <td>2.127932</td>\n",
       "      <td>...</td>\n",
       "      <td>0.519154</td>\n",
       "      <td>-1.844483</td>\n",
       "      <td>-0.045050</td>\n",
       "      <td>1.763478</td>\n",
       "      <td>2.048809</td>\n",
       "      <td>2.293478</td>\n",
       "      <td>-0.048054</td>\n",
       "      <td>-0.099003</td>\n",
       "      <td>-0.052688</td>\n",
       "      <td>2.201494</td>\n",
       "    </tr>\n",
       "    <tr>\n",
       "      <th>8764</th>\n",
       "      <td>2024-01-01 04:00:00</td>\n",
       "      <td>NaN</td>\n",
       "      <td>test</td>\n",
       "      <td>1.702782</td>\n",
       "      <td>-2.809388</td>\n",
       "      <td>4.499324</td>\n",
       "      <td>2.824104</td>\n",
       "      <td>-0.606351</td>\n",
       "      <td>0.773042</td>\n",
       "      <td>2.205002</td>\n",
       "      <td>...</td>\n",
       "      <td>1.394110</td>\n",
       "      <td>-1.329516</td>\n",
       "      <td>0.756251</td>\n",
       "      <td>2.656814</td>\n",
       "      <td>3.007544</td>\n",
       "      <td>2.294470</td>\n",
       "      <td>-0.048054</td>\n",
       "      <td>-0.099003</td>\n",
       "      <td>-0.052688</td>\n",
       "      <td>2.202644</td>\n",
       "    </tr>\n",
       "  </tbody>\n",
       "</table>\n",
       "<p>5 rows × 209 columns</p>\n",
       "</div>"
      ],
      "text/plain": [
       "                       ID  target _type  \\\n",
       "8760  2024-01-01 00:00:00     NaN  test   \n",
       "8761  2024-01-01 01:00:00     NaN  test   \n",
       "8762  2024-01-01 02:00:00     NaN  test   \n",
       "8763  2024-01-01 03:00:00     NaN  test   \n",
       "8764  2024-01-01 04:00:00     NaN  test   \n",
       "\n",
       "      hourly_market-data_funding-rates_bybit_funding_rates  \\\n",
       "8760                                           0.862267      \n",
       "8761                                           1.129189      \n",
       "8762                                           1.435859      \n",
       "8763                                           1.686091      \n",
       "8764                                           1.702782      \n",
       "\n",
       "      hourly_market-data_taker-buy-sell-stats_bybit_taker_sell_ratio  \\\n",
       "8760                                          -1.106685                \n",
       "8761                                          -1.186934                \n",
       "8762                                           0.022434                \n",
       "8763                                           1.514450                \n",
       "8764                                          -2.809388                \n",
       "\n",
       "      hourly_market-data_taker-buy-sell-stats_bybit_taker_buy_sell_ratio  \\\n",
       "8760                                           0.628514                    \n",
       "8761                                           0.709193                    \n",
       "8762                                          -0.173300                    \n",
       "8763                                          -0.737805                    \n",
       "8764                                           4.499324                    \n",
       "\n",
       "      hourly_market-data_taker-buy-sell-stats_bybit_taker_buy_ratio  \\\n",
       "8760                                           1.123435               \n",
       "8761                                           1.203588               \n",
       "8762                                          -0.004335               \n",
       "8763                                          -1.494569               \n",
       "8764                                           2.824104               \n",
       "\n",
       "      hourly_market-data_taker-buy-sell-stats_bybit_taker_sell_volume  \\\n",
       "8760                                          -0.368791                 \n",
       "8761                                          -0.359145                 \n",
       "8762                                          -0.671636                 \n",
       "8763                                           0.141968                 \n",
       "8764                                          -0.606351                 \n",
       "\n",
       "      hourly_market-data_taker-buy-sell-stats_bybit_taker_buy_volume  \\\n",
       "8760                                           0.047456                \n",
       "8761                                           0.106802                \n",
       "8762                                          -0.671125                \n",
       "8763                                          -0.415430                \n",
       "8764                                           0.773042                \n",
       "\n",
       "      hourly_network-data_fees_fees_reward_percent  ...  \\\n",
       "8760                                      3.380109  ...   \n",
       "8761                                      2.357192  ...   \n",
       "8762                                      2.202971  ...   \n",
       "8763                                      2.127932  ...   \n",
       "8764                                      2.205002  ...   \n",
       "\n",
       "      hourly_network-data_addresses-count_addresses_count_sender  \\\n",
       "8760                                          -0.333541            \n",
       "8761                                           2.749899            \n",
       "8762                                           0.872912            \n",
       "8763                                           0.519154            \n",
       "8764                                           1.394110            \n",
       "\n",
       "      hourly_network-data_addresses-count_addresses_count_receiver  \\\n",
       "8760                                          -1.275562              \n",
       "8761                                          -0.856214              \n",
       "8762                                          -0.958328              \n",
       "8763                                          -1.844483              \n",
       "8764                                          -1.329516              \n",
       "\n",
       "      hourly_network-data_block-count_block_count  \\\n",
       "8760                                    -0.846352   \n",
       "8761                                     1.958204   \n",
       "8762                                     0.355601   \n",
       "8763                                    -0.045050   \n",
       "8764                                     0.756251   \n",
       "\n",
       "      hourly_network-data_fees_fees_total  \\\n",
       "8760                             1.945012   \n",
       "8761                             4.171627   \n",
       "8762                             2.247406   \n",
       "8763                             1.763478   \n",
       "8764                             2.656814   \n",
       "\n",
       "      hourly_network-data_fees_fees_total_usd  \\\n",
       "8760                                 2.242378   \n",
       "8761                                 4.675388   \n",
       "8762                                 2.580664   \n",
       "8763                                 2.048809   \n",
       "8764                                 3.007544   \n",
       "\n",
       "      hourly_market-data_price-ohlcv_all_exchange_spot_btc_usd_close  \\\n",
       "8760                                           2.303017                \n",
       "8761                                           2.306272                \n",
       "8762                                           2.299326                \n",
       "8763                                           2.293478                \n",
       "8764                                           2.294470                \n",
       "\n",
       "      hourly_market-data_liquidations_htx_global_btc_usd_short_liquidations  \\\n",
       "8760                                          -0.048054                       \n",
       "8761                                          -0.048054                       \n",
       "8762                                          -0.048054                       \n",
       "8763                                          -0.048054                       \n",
       "8764                                          -0.048054                       \n",
       "\n",
       "      hourly_market-data_liquidations_htx_global_btc_usd_long_liquidations_usd  \\\n",
       "8760                                          -0.099003                          \n",
       "8761                                          -0.099003                          \n",
       "8762                                          -0.099003                          \n",
       "8763                                          -0.099003                          \n",
       "8764                                          -0.099003                          \n",
       "\n",
       "      hourly_market-data_liquidations_htx_global_btc_usd_short_liquidations_usd  \\\n",
       "8760                                          -0.052688                           \n",
       "8761                                          -0.052688                           \n",
       "8762                                          -0.052688                           \n",
       "8763                                          -0.052688                           \n",
       "8764                                          -0.052688                           \n",
       "\n",
       "      hourly_network-data_utxo-count_utxo_count  \n",
       "8760                                   2.198334  \n",
       "8761                                   2.199442  \n",
       "8762                                   2.200676  \n",
       "8763                                   2.201494  \n",
       "8764                                   2.202644  \n",
       "\n",
       "[5 rows x 209 columns]"
      ]
     },
     "execution_count": 27,
     "metadata": {},
     "output_type": "execute_result"
    }
   ],
   "source": [
    "from sklearn.model_selection import train_test_split\n",
    "from sklearn.ensemble import RandomForestRegressor\n",
    "from sklearn.metrics import mean_squared_error\n",
    "\n",
    "# 타겟과 피처 설정\n",
    "y_train = std_train_df['hourly_market-data_price-ohlcv_all_exchange_spot_btc_usd_close']\n",
    "X_train = std_train_df.drop(columns=['hourly_market-data_price-ohlcv_all_exchange_spot_btc_usd_close', 'ID', 'target', '_type'], errors='ignore')\n",
    "\n",
    "# 훈련 데이터와 검증 데이터 나누기\n",
    "X_train_split, X_val, y_train_split, y_val = train_test_split(X_train, y_train, test_size=0.2, random_state=42)\n",
    "\n",
    "# 모델 훈련\n",
    "model = RandomForestRegressor()\n",
    "model.fit(X_train_split, y_train_split)\n",
    "\n",
    "# 검증 데이터에서 예측\n",
    "y_val_pred = model.predict(X_val)\n",
    "\n",
    "# 성능 평가\n",
    "mse = mean_squared_error(y_val, y_val_pred)\n",
    "print(\"Mean Squared Error on Validation Set:\", mse)\n",
    "\n",
    "# 모델 훈련\n",
    "model = RandomForestRegressor()\n",
    "model.fit(X_train, y_train)\n",
    "\n",
    "# test_df에서 예측\n",
    "X_test = std_test_df.drop(columns=['hourly_market-data_price-ohlcv_all_exchange_spot_btc_usd_close', 'ID', 'target', '_type'], errors='ignore')\n",
    "y_pred = model.predict(X_test)\n",
    "\n",
    "# new_test_df에 y_pred 값을 추가\n",
    "std_test_df['hourly_market-data_price-ohlcv_all_exchange_spot_btc_usd_close'] = y_pred\n",
    "\n",
    "# 결과 확인\n",
    "std_test_df.head()"
   ]
  },
  {
   "cell_type": "code",
   "execution_count": 28,
   "metadata": {},
   "outputs": [
    {
     "data": {
      "text/html": [
       "<div>\n",
       "<style scoped>\n",
       "    .dataframe tbody tr th:only-of-type {\n",
       "        vertical-align: middle;\n",
       "    }\n",
       "\n",
       "    .dataframe tbody tr th {\n",
       "        vertical-align: top;\n",
       "    }\n",
       "\n",
       "    .dataframe thead th {\n",
       "        text-align: right;\n",
       "    }\n",
       "</style>\n",
       "<table border=\"1\" class=\"dataframe\">\n",
       "  <thead>\n",
       "    <tr style=\"text-align: right;\">\n",
       "      <th></th>\n",
       "      <th>ID</th>\n",
       "      <th>target</th>\n",
       "      <th>_type</th>\n",
       "      <th>hourly_market-data_funding-rates_bybit_funding_rates</th>\n",
       "      <th>hourly_market-data_taker-buy-sell-stats_bybit_taker_sell_ratio</th>\n",
       "      <th>hourly_market-data_taker-buy-sell-stats_bybit_taker_buy_sell_ratio</th>\n",
       "      <th>hourly_market-data_taker-buy-sell-stats_bybit_taker_buy_ratio</th>\n",
       "      <th>hourly_market-data_taker-buy-sell-stats_bybit_taker_sell_volume</th>\n",
       "      <th>hourly_market-data_taker-buy-sell-stats_bybit_taker_buy_volume</th>\n",
       "      <th>hourly_network-data_fees_fees_reward_percent</th>\n",
       "      <th>...</th>\n",
       "      <th>hourly_network-data_addresses-count_addresses_count_sender</th>\n",
       "      <th>hourly_network-data_addresses-count_addresses_count_receiver</th>\n",
       "      <th>hourly_network-data_block-count_block_count</th>\n",
       "      <th>hourly_network-data_fees_fees_total</th>\n",
       "      <th>hourly_network-data_fees_fees_total_usd</th>\n",
       "      <th>hourly_market-data_price-ohlcv_all_exchange_spot_btc_usd_close</th>\n",
       "      <th>hourly_market-data_liquidations_htx_global_btc_usd_short_liquidations</th>\n",
       "      <th>hourly_market-data_liquidations_htx_global_btc_usd_long_liquidations_usd</th>\n",
       "      <th>hourly_market-data_liquidations_htx_global_btc_usd_short_liquidations_usd</th>\n",
       "      <th>hourly_network-data_utxo-count_utxo_count</th>\n",
       "    </tr>\n",
       "  </thead>\n",
       "  <tbody>\n",
       "    <tr>\n",
       "      <th>0</th>\n",
       "      <td>2023-01-01 00:00:00</td>\n",
       "      <td>2.0</td>\n",
       "      <td>train</td>\n",
       "      <td>0.242277</td>\n",
       "      <td>-0.660030</td>\n",
       "      <td>0.248331</td>\n",
       "      <td>0.677313</td>\n",
       "      <td>-0.790786</td>\n",
       "      <td>-0.739005</td>\n",
       "      <td>-0.725213</td>\n",
       "      <td>...</td>\n",
       "      <td>0.364113</td>\n",
       "      <td>0.946969</td>\n",
       "      <td>2.358855</td>\n",
       "      <td>-0.472265</td>\n",
       "      <td>-0.467622</td>\n",
       "      <td>-2.083215</td>\n",
       "      <td>-0.048054</td>\n",
       "      <td>-0.099003</td>\n",
       "      <td>-0.052688</td>\n",
       "      <td>-1.216481</td>\n",
       "    </tr>\n",
       "    <tr>\n",
       "      <th>1</th>\n",
       "      <td>2023-01-01 01:00:00</td>\n",
       "      <td>1.0</td>\n",
       "      <td>train</td>\n",
       "      <td>0.242277</td>\n",
       "      <td>-2.214769</td>\n",
       "      <td>2.351257</td>\n",
       "      <td>2.230195</td>\n",
       "      <td>-0.812900</td>\n",
       "      <td>-0.555248</td>\n",
       "      <td>-0.688410</td>\n",
       "      <td>...</td>\n",
       "      <td>-1.394462</td>\n",
       "      <td>-0.773384</td>\n",
       "      <td>-0.846352</td>\n",
       "      <td>-0.540988</td>\n",
       "      <td>-0.496686</td>\n",
       "      <td>-2.079750</td>\n",
       "      <td>-0.048054</td>\n",
       "      <td>-0.099003</td>\n",
       "      <td>-0.052688</td>\n",
       "      <td>-1.216149</td>\n",
       "    </tr>\n",
       "    <tr>\n",
       "      <th>2</th>\n",
       "      <td>2023-01-01 02:00:00</td>\n",
       "      <td>1.0</td>\n",
       "      <td>train</td>\n",
       "      <td>0.242277</td>\n",
       "      <td>1.204924</td>\n",
       "      <td>-0.646820</td>\n",
       "      <td>-1.185413</td>\n",
       "      <td>-0.783052</td>\n",
       "      <td>-0.844533</td>\n",
       "      <td>-0.741502</td>\n",
       "      <td>...</td>\n",
       "      <td>-1.014429</td>\n",
       "      <td>-0.889786</td>\n",
       "      <td>0.756251</td>\n",
       "      <td>-0.528197</td>\n",
       "      <td>-0.491262</td>\n",
       "      <td>-2.081277</td>\n",
       "      <td>-0.048054</td>\n",
       "      <td>-0.099003</td>\n",
       "      <td>-0.052688</td>\n",
       "      <td>-1.216188</td>\n",
       "    </tr>\n",
       "    <tr>\n",
       "      <th>3</th>\n",
       "      <td>2023-01-01 03:00:00</td>\n",
       "      <td>1.0</td>\n",
       "      <td>train</td>\n",
       "      <td>0.242277</td>\n",
       "      <td>-0.654333</td>\n",
       "      <td>0.244119</td>\n",
       "      <td>0.671624</td>\n",
       "      <td>-0.841254</td>\n",
       "      <td>-0.809874</td>\n",
       "      <td>-0.731158</td>\n",
       "      <td>...</td>\n",
       "      <td>-1.459339</td>\n",
       "      <td>-0.447158</td>\n",
       "      <td>-0.445701</td>\n",
       "      <td>-0.549200</td>\n",
       "      <td>-0.500178</td>\n",
       "      <td>-2.083744</td>\n",
       "      <td>-0.048054</td>\n",
       "      <td>-0.099003</td>\n",
       "      <td>-0.052688</td>\n",
       "      <td>-1.215593</td>\n",
       "    </tr>\n",
       "    <tr>\n",
       "      <th>4</th>\n",
       "      <td>2023-01-01 04:00:00</td>\n",
       "      <td>2.0</td>\n",
       "      <td>train</td>\n",
       "      <td>0.242277</td>\n",
       "      <td>0.388268</td>\n",
       "      <td>-0.346476</td>\n",
       "      <td>-0.369732</td>\n",
       "      <td>-0.660023</td>\n",
       "      <td>-0.701877</td>\n",
       "      <td>-0.719856</td>\n",
       "      <td>...</td>\n",
       "      <td>-1.043804</td>\n",
       "      <td>0.343477</td>\n",
       "      <td>0.355601</td>\n",
       "      <td>-0.521007</td>\n",
       "      <td>-0.488245</td>\n",
       "      <td>-2.085260</td>\n",
       "      <td>-0.048054</td>\n",
       "      <td>-0.099003</td>\n",
       "      <td>-0.052688</td>\n",
       "      <td>-1.214962</td>\n",
       "    </tr>\n",
       "  </tbody>\n",
       "</table>\n",
       "<p>5 rows × 209 columns</p>\n",
       "</div>"
      ],
      "text/plain": [
       "                    ID  target  _type  \\\n",
       "0  2023-01-01 00:00:00     2.0  train   \n",
       "1  2023-01-01 01:00:00     1.0  train   \n",
       "2  2023-01-01 02:00:00     1.0  train   \n",
       "3  2023-01-01 03:00:00     1.0  train   \n",
       "4  2023-01-01 04:00:00     2.0  train   \n",
       "\n",
       "   hourly_market-data_funding-rates_bybit_funding_rates  \\\n",
       "0                                           0.242277      \n",
       "1                                           0.242277      \n",
       "2                                           0.242277      \n",
       "3                                           0.242277      \n",
       "4                                           0.242277      \n",
       "\n",
       "   hourly_market-data_taker-buy-sell-stats_bybit_taker_sell_ratio  \\\n",
       "0                                          -0.660030                \n",
       "1                                          -2.214769                \n",
       "2                                           1.204924                \n",
       "3                                          -0.654333                \n",
       "4                                           0.388268                \n",
       "\n",
       "   hourly_market-data_taker-buy-sell-stats_bybit_taker_buy_sell_ratio  \\\n",
       "0                                           0.248331                    \n",
       "1                                           2.351257                    \n",
       "2                                          -0.646820                    \n",
       "3                                           0.244119                    \n",
       "4                                          -0.346476                    \n",
       "\n",
       "   hourly_market-data_taker-buy-sell-stats_bybit_taker_buy_ratio  \\\n",
       "0                                           0.677313               \n",
       "1                                           2.230195               \n",
       "2                                          -1.185413               \n",
       "3                                           0.671624               \n",
       "4                                          -0.369732               \n",
       "\n",
       "   hourly_market-data_taker-buy-sell-stats_bybit_taker_sell_volume  \\\n",
       "0                                          -0.790786                 \n",
       "1                                          -0.812900                 \n",
       "2                                          -0.783052                 \n",
       "3                                          -0.841254                 \n",
       "4                                          -0.660023                 \n",
       "\n",
       "   hourly_market-data_taker-buy-sell-stats_bybit_taker_buy_volume  \\\n",
       "0                                          -0.739005                \n",
       "1                                          -0.555248                \n",
       "2                                          -0.844533                \n",
       "3                                          -0.809874                \n",
       "4                                          -0.701877                \n",
       "\n",
       "   hourly_network-data_fees_fees_reward_percent  ...  \\\n",
       "0                                     -0.725213  ...   \n",
       "1                                     -0.688410  ...   \n",
       "2                                     -0.741502  ...   \n",
       "3                                     -0.731158  ...   \n",
       "4                                     -0.719856  ...   \n",
       "\n",
       "   hourly_network-data_addresses-count_addresses_count_sender  \\\n",
       "0                                           0.364113            \n",
       "1                                          -1.394462            \n",
       "2                                          -1.014429            \n",
       "3                                          -1.459339            \n",
       "4                                          -1.043804            \n",
       "\n",
       "   hourly_network-data_addresses-count_addresses_count_receiver  \\\n",
       "0                                           0.946969              \n",
       "1                                          -0.773384              \n",
       "2                                          -0.889786              \n",
       "3                                          -0.447158              \n",
       "4                                           0.343477              \n",
       "\n",
       "   hourly_network-data_block-count_block_count  \\\n",
       "0                                     2.358855   \n",
       "1                                    -0.846352   \n",
       "2                                     0.756251   \n",
       "3                                    -0.445701   \n",
       "4                                     0.355601   \n",
       "\n",
       "   hourly_network-data_fees_fees_total  \\\n",
       "0                            -0.472265   \n",
       "1                            -0.540988   \n",
       "2                            -0.528197   \n",
       "3                            -0.549200   \n",
       "4                            -0.521007   \n",
       "\n",
       "   hourly_network-data_fees_fees_total_usd  \\\n",
       "0                                -0.467622   \n",
       "1                                -0.496686   \n",
       "2                                -0.491262   \n",
       "3                                -0.500178   \n",
       "4                                -0.488245   \n",
       "\n",
       "   hourly_market-data_price-ohlcv_all_exchange_spot_btc_usd_close  \\\n",
       "0                                          -2.083215                \n",
       "1                                          -2.079750                \n",
       "2                                          -2.081277                \n",
       "3                                          -2.083744                \n",
       "4                                          -2.085260                \n",
       "\n",
       "   hourly_market-data_liquidations_htx_global_btc_usd_short_liquidations  \\\n",
       "0                                          -0.048054                       \n",
       "1                                          -0.048054                       \n",
       "2                                          -0.048054                       \n",
       "3                                          -0.048054                       \n",
       "4                                          -0.048054                       \n",
       "\n",
       "   hourly_market-data_liquidations_htx_global_btc_usd_long_liquidations_usd  \\\n",
       "0                                          -0.099003                          \n",
       "1                                          -0.099003                          \n",
       "2                                          -0.099003                          \n",
       "3                                          -0.099003                          \n",
       "4                                          -0.099003                          \n",
       "\n",
       "   hourly_market-data_liquidations_htx_global_btc_usd_short_liquidations_usd  \\\n",
       "0                                          -0.052688                           \n",
       "1                                          -0.052688                           \n",
       "2                                          -0.052688                           \n",
       "3                                          -0.052688                           \n",
       "4                                          -0.052688                           \n",
       "\n",
       "   hourly_network-data_utxo-count_utxo_count  \n",
       "0                                  -1.216481  \n",
       "1                                  -1.216149  \n",
       "2                                  -1.216188  \n",
       "3                                  -1.215593  \n",
       "4                                  -1.214962  \n",
       "\n",
       "[5 rows x 209 columns]"
      ]
     },
     "execution_count": 28,
     "metadata": {},
     "output_type": "execute_result"
    }
   ],
   "source": [
    "df = pd.concat([std_train_df, std_test_df], ignore_index=True)\n",
    "df.head()"
   ]
  },
  {
   "cell_type": "code",
   "execution_count": 29,
   "metadata": {},
   "outputs": [
    {
     "data": {
      "text/plain": [
       "(11552, 11)"
      ]
     },
     "execution_count": 29,
     "metadata": {},
     "output_type": "execute_result"
    }
   ],
   "source": [
    "# 모델에 사용할 컬럼, 컬럼의 rename rule을 미리 할당함\n",
    "cols_dict: Dict[str, str] = {\n",
    "    \"ID\": \"ID\",\n",
    "    \"target\": \"target\",\n",
    "    \"_type\": \"_type\",\n",
    "    \"hourly_market-data_funding-rates_all_exchange_funding_rates\": \"funding_rates\",\n",
    "    \"hourly_network-data_difficulty_difficulty\" : \"difficulty\",\n",
    "    \"hourly_market-data_open-interest_all_exchange_all_symbol_open_interest\" : \"open_interest\",\n",
    "    \"hourly_market-data_liquidations_all_exchange_all_symbol_long_liquidations\": \"long_liquidations\",\n",
    "    #\"hourly_market-data_liquidations_all_exchange_all_symbol_long_liquidations_usd\": \"long_liquidations_usd\",\n",
    "    \"hourly_market-data_liquidations_all_exchange_all_symbol_short_liquidations\": \"short_liquidations\",\n",
    "    #\"hourly_market-data_liquidations_all_exchange_all_symbol_short_liquidations_usd\": \"short_liquidations_usd\",\n",
    "    #\"hourly_market-data_taker-buy-sell-stats_all_exchange_taker_buy_ratio\": \"buy_ratio\",\n",
    "    \"hourly_market-data_taker-buy-sell-stats_all_exchange_taker_buy_volume\": \"buy_volume\",\n",
    "    #\"hourly_market-data_taker-buy-sell-stats_all_exchange_taker_sell_ratio\": \"sell_ratio\",\n",
    "    \"hourly_market-data_taker-buy-sell-stats_all_exchange_taker_sell_volume\": \"sell_volume\",\n",
    "    #\"hourly_network-data_addresses-count_addresses_count_active\": \"active_count\",\n",
    "    #\"hourly_network-data_addresses-count_addresses_count_receiver\": \"receiver_count\",\n",
    "    #\"hourly_network-data_addresses-count_addresses_count_sender\": \"sender_count\",\n",
    "    \"hourly_market-data_price-ohlcv_all_exchange_spot_btc_usd_close\" : \"close\",\n",
    "}\n",
    "df = df[cols_dict.keys()].rename(cols_dict, axis=1)\n",
    "df.shape"
   ]
  },
  {
   "cell_type": "code",
   "execution_count": 30,
   "metadata": {},
   "outputs": [],
   "source": [
    "# eda 에서 파악한 차이와 차이의 음수, 양수 여부를 새로운 피쳐로 생성\n",
    "df = df.assign(\n",
    "    #liquidation_diff=df[\"long_liquidations\"] - df[\"short_liquidations\"],\n",
    "    #liquidation_usd_diff=df[\"long_liquidations_usd\"] - df[\"short_liquidations_usd\"],\n",
    "    volume_diff=df[\"buy_volume\"] - df[\"sell_volume\"],\n",
    "    buy_sell_volume_ratio=df[\"buy_volume\"] / (df[\"sell_volume\"] + 1),\n",
    "    close_diff = df['close'].diff().fillna(0),\n",
    "    volume = df[\"buy_volume\"] + df[\"sell_volume\"]\n",
    ")\n",
    "# category, continuous 열을 따로 할당해둠\n",
    "conti_cols: List[str] = [_ for _ in cols_dict.values() if _ not in [\"ID\", \"target\", \"_type\"]] + [\n",
    "    #\"liquidation_diff\",\n",
    "    #\"liquidation_usd_diff\",\n",
    "    \"volume_diff\",\n",
    "    \"buy_sell_volume_ratio\",\n",
    "    \"close_diff\",\n",
    "    \"volume\"\n",
    "]"
   ]
  },
  {
   "cell_type": "code",
   "execution_count": 167,
   "metadata": {},
   "outputs": [
    {
     "name": "stdout",
     "output_type": "stream",
     "text": [
      "(8760, 10)\n"
     ]
    },
    {
     "data": {
      "text/plain": [
       "target\n",
       "2.0    0.419064\n",
       "1.0    0.404566\n",
       "3.0    0.091895\n",
       "0.0    0.084475\n",
       "Name: count, dtype: float64"
      ]
     },
     "execution_count": 167,
     "metadata": {},
     "output_type": "execute_result"
    }
   ],
   "source": [
    "eda_df = df.loc[df[\"_type\"]==\"train\"]\n",
    "print(eda_df.shape)\n",
    "eda_df[\"target\"].value_counts()/len(eda_df)"
   ]
  },
  {
   "cell_type": "markdown",
   "metadata": {},
   "source": [
    "변수간 상관관계"
   ]
  },
  {
   "cell_type": "code",
   "execution_count": 149,
   "metadata": {},
   "outputs": [
    {
     "data": {
      "text/plain": [
       "<Axes: >"
      ]
     },
     "execution_count": 149,
     "metadata": {},
     "output_type": "execute_result"
    },
    {
     "data": {
      "image/png": "[encoded data removed]",
      "text/plain": [
       "<Figure size 1500x1500 with 2 Axes>"
      ]
     },
     "metadata": {},
     "output_type": "display_data"
    }
   ],
   "source": [
    "corr_df = eda_df.drop(columns=[\"_type\", \"ID\"])\n",
    "plt.figure(figsize=(15,15))\n",
    "sns.heatmap(data = corr_df.corr(), annot=True, \n",
    "fmt = '.2f', linewidths=.5, cmap='Blues')"
   ]
  },
  {
   "cell_type": "code",
   "execution_count": 27,
   "metadata": {},
   "outputs": [
    {
     "data": {
      "text/html": [
       "<div>\n",
       "<style scoped>\n",
       "    .dataframe tbody tr th:only-of-type {\n",
       "        vertical-align: middle;\n",
       "    }\n",
       "\n",
       "    .dataframe tbody tr th {\n",
       "        vertical-align: top;\n",
       "    }\n",
       "\n",
       "    .dataframe thead th {\n",
       "        text-align: right;\n",
       "    }\n",
       "</style>\n",
       "<table border=\"1\" class=\"dataframe\">\n",
       "  <thead>\n",
       "    <tr style=\"text-align: right;\">\n",
       "      <th></th>\n",
       "      <th>target</th>\n",
       "      <th>liquidation_diff</th>\n",
       "      <th>liquidation_usd_diff</th>\n",
       "      <th>close</th>\n",
       "      <th>volume_diff</th>\n",
       "      <th>close_diff</th>\n",
       "      <th>volume</th>\n",
       "    </tr>\n",
       "  </thead>\n",
       "  <tbody>\n",
       "    <tr>\n",
       "      <th>0</th>\n",
       "      <td>0.0</td>\n",
       "      <td>-0.037652</td>\n",
       "      <td>-0.048132</td>\n",
       "      <td>0.143783</td>\n",
       "      <td>0.006109</td>\n",
       "      <td>0.012732</td>\n",
       "      <td>0.838378</td>\n",
       "    </tr>\n",
       "    <tr>\n",
       "      <th>1</th>\n",
       "      <td>1.0</td>\n",
       "      <td>-0.046976</td>\n",
       "      <td>-0.052222</td>\n",
       "      <td>-0.018169</td>\n",
       "      <td>0.017566</td>\n",
       "      <td>0.003201</td>\n",
       "      <td>-0.205267</td>\n",
       "    </tr>\n",
       "    <tr>\n",
       "      <th>2</th>\n",
       "      <td>2.0</td>\n",
       "      <td>0.037979</td>\n",
       "      <td>0.046941</td>\n",
       "      <td>-0.022743</td>\n",
       "      <td>-0.014028</td>\n",
       "      <td>-0.001804</td>\n",
       "      <td>-0.196395</td>\n",
       "    </tr>\n",
       "    <tr>\n",
       "      <th>3</th>\n",
       "      <td>3.0</td>\n",
       "      <td>0.068227</td>\n",
       "      <td>0.060087</td>\n",
       "      <td>0.051531</td>\n",
       "      <td>-0.018980</td>\n",
       "      <td>-0.012137</td>\n",
       "      <td>1.028610</td>\n",
       "    </tr>\n",
       "  </tbody>\n",
       "</table>\n",
       "</div>"
      ],
      "text/plain": [
       "   target  liquidation_diff  liquidation_usd_diff     close  volume_diff  \\\n",
       "0     0.0         -0.037652             -0.048132  0.143783     0.006109   \n",
       "1     1.0         -0.046976             -0.052222 -0.018169     0.017566   \n",
       "2     2.0          0.037979              0.046941 -0.022743    -0.014028   \n",
       "3     3.0          0.068227              0.060087  0.051531    -0.018980   \n",
       "\n",
       "   close_diff    volume  \n",
       "0    0.012732  0.838378  \n",
       "1    0.003201 -0.205267  \n",
       "2   -0.001804 -0.196395  \n",
       "3   -0.012137  1.028610  "
      ]
     },
     "execution_count": 27,
     "metadata": {},
     "output_type": "execute_result"
    }
   ],
   "source": [
    "bar_df = eda_df.groupby(\"target\").agg({\n",
    "    \"liquidation_diff\" : \"mean\",\n",
    "    \"liquidation_usd_diff\" : \"mean\",\n",
    "    \"close\" : \"mean\",\n",
    "    \"volume_diff\" : \"mean\",\n",
    "    \"close_diff\" : \"mean\",\n",
    "    \"volume\" : \"mean\",\n",
    "}).reset_index()\n",
    "bar_df"
   ]
  },
  {
   "cell_type": "code",
   "execution_count": 28,
   "metadata": {},
   "outputs": [
    {
     "data": {
      "application/vnd.plotly.v1+json": {
       "config": {
        "plotlyServerURL": "https://plot.ly"
       },
       "data": [
        {
         "type": "bar",
         "x": [
          0,
          1,
          2,
          3
         ],
         "xaxis": "x",
         "y": [
          -0.037652448426294866,
          -0.04697591605569914,
          0.03797938752668238,
          0.06822748661665154
         ],
         "yaxis": "y"
        },
        {
         "type": "bar",
         "x": [
          0,
          1,
          2,
          3
         ],
         "xaxis": "x2",
         "y": [
          -0.048131999319756244,
          -0.05222189920065285,
          0.04694136405752597,
          0.06008738237087661
         ],
         "yaxis": "y2"
        },
        {
         "type": "bar",
         "x": [
          0,
          1,
          2,
          3
         ],
         "xaxis": "x3",
         "y": [
          0.14378323347149086,
          -0.01816941140865916,
          -0.02274298089804024,
          0.051530787751660104
         ],
         "yaxis": "y3"
        },
        {
         "type": "bar",
         "x": [
          0,
          1,
          2,
          3
         ],
         "xaxis": "x4",
         "y": [
          0.006108647837364567,
          0.017566036287055983,
          -0.014027657931176054,
          -0.018979999671589656
         ],
         "yaxis": "y4"
        },
        {
         "type": "bar",
         "x": [
          0,
          1,
          2,
          3
         ],
         "xaxis": "x5",
         "y": [
          0.0127316727657821,
          0.0032011214303035588,
          -0.0018035620312123854,
          -0.01213697859948254
         ],
         "yaxis": "y5"
        },
        {
         "type": "bar",
         "x": [
          0,
          1,
          2,
          3
         ],
         "xaxis": "x6",
         "y": [
          0.8383775680353388,
          -0.2052669266925417,
          -0.19639453557410289,
          1.0286098483785684
         ],
         "yaxis": "y6"
        }
       ],
       "layout": {
        "annotations": [
         {
          "font": {
           "size": 16
          },
          "showarrow": false,
          "text": "liquidation_diff",
          "x": 0.225,
          "xanchor": "center",
          "xref": "paper",
          "y": 1,
          "yanchor": "bottom",
          "yref": "paper"
         },
         {
          "font": {
           "size": 16
          },
          "showarrow": false,
          "text": "liquidation_usd_diff",
          "x": 0.775,
          "xanchor": "center",
          "xref": "paper",
          "y": 1,
          "yanchor": "bottom",
          "yref": "paper"
         },
         {
          "font": {
           "size": 16
          },
          "showarrow": false,
          "text": "close",
          "x": 0.225,
          "xanchor": "center",
          "xref": "paper",
          "y": 0.6111111111111112,
          "yanchor": "bottom",
          "yref": "paper"
         },
         {
          "font": {
           "size": 16
          },
          "showarrow": false,
          "text": "volume_diff",
          "x": 0.775,
          "xanchor": "center",
          "xref": "paper",
          "y": 0.6111111111111112,
          "yanchor": "bottom",
          "yref": "paper"
         },
         {
          "font": {
           "size": 16
          },
          "showarrow": false,
          "text": "close_diff",
          "x": 0.225,
          "xanchor": "center",
          "xref": "paper",
          "y": 0.22222222222222224,
          "yanchor": "bottom",
          "yref": "paper"
         },
         {
          "font": {
           "size": 16
          },
          "showarrow": false,
          "text": "volume",
          "x": 0.775,
          "xanchor": "center",
          "xref": "paper",
          "y": 0.22222222222222224,
          "yanchor": "bottom",
          "yref": "paper"
         }
        ],
        "showlegend": false,
        "template": {
         "data": {
          "bar": [
           {
            "error_x": {
             "color": "#2a3f5f"
            },
            "error_y": {
             "color": "#2a3f5f"
            },
            "marker": {
             "line": {
              "color": "#E5ECF6",
              "width": 0.5
             },
             "pattern": {
              "fillmode": "overlay",
              "size": 10,
              "solidity": 0.2
             }
            },
            "type": "bar"
           }
          ],
          "barpolar": [
           {
            "marker": {
             "line": {
              "color": "#E5ECF6",
              "width": 0.5
             },
             "pattern": {
              "fillmode": "overlay",
              "size": 10,
              "solidity": 0.2
             }
            },
            "type": "barpolar"
           }
          ],
          "carpet": [
           {
            "aaxis": {
             "endlinecolor": "#2a3f5f",
             "gridcolor": "white",
             "linecolor": "white",
             "minorgridcolor": "white",
             "startlinecolor": "#2a3f5f"
            },
            "baxis": {
             "endlinecolor": "#2a3f5f",
             "gridcolor": "white",
             "linecolor": "white",
             "minorgridcolor": "white",
             "startlinecolor": "#2a3f5f"
            },
            "type": "carpet"
           }
          ],
          "choropleth": [
           {
            "colorbar": {
             "outlinewidth": 0,
             "ticks": ""
            },
            "type": "choropleth"
           }
          ],
          "contour": [
           {
            "colorbar": {
             "outlinewidth": 0,
             "ticks": ""
            },
            "colorscale": [
             [
              0,
              "#0d0887"
             ],
             [
              0.1111111111111111,
              "#46039f"
             ],
             [
              0.2222222222222222,
              "#7201a8"
             ],
             [
              0.3333333333333333,
              "#9c179e"
             ],
             [
              0.4444444444444444,
              "#bd3786"
             ],
             [
              0.5555555555555556,
              "#d8576b"
             ],
             [
              0.6666666666666666,
              "#ed7953"
             ],
             [
              0.7777777777777778,
              "#fb9f3a"
             ],
             [
              0.8888888888888888,
              "#fdca26"
             ],
             [
              1,
              "#f0f921"
             ]
            ],
            "type": "contour"
           }
          ],
          "contourcarpet": [
           {
            "colorbar": {
             "outlinewidth": 0,
             "ticks": ""
            },
            "type": "contourcarpet"
           }
          ],
          "heatmap": [
           {
            "colorbar": {
             "outlinewidth": 0,
             "ticks": ""
            },
            "colorscale": [
             [
              0,
              "#0d0887"
             ],
             [
              0.1111111111111111,
              "#46039f"
             ],
             [
              0.2222222222222222,
              "#7201a8"
             ],
             [
              0.3333333333333333,
              "#9c179e"
             ],
             [
              0.4444444444444444,
              "#bd3786"
             ],
             [
              0.5555555555555556,
              "#d8576b"
             ],
             [
              0.6666666666666666,
              "#ed7953"
             ],
             [
              0.7777777777777778,
              "#fb9f3a"
             ],
             [
              0.8888888888888888,
              "#fdca26"
             ],
             [
              1,
              "#f0f921"
             ]
            ],
            "type": "heatmap"
           }
          ],
          "heatmapgl": [
           {
            "colorbar": {
             "outlinewidth": 0,
             "ticks": ""
            },
            "colorscale": [
             [
              0,
              "#0d0887"
             ],
             [
              0.1111111111111111,
              "#46039f"
             ],
             [
              0.2222222222222222,
              "#7201a8"
             ],
             [
              0.3333333333333333,
              "#9c179e"
             ],
             [
              0.4444444444444444,
              "#bd3786"
             ],
             [
              0.5555555555555556,
              "#d8576b"
             ],
             [
              0.6666666666666666,
              "#ed7953"
             ],
             [
              0.7777777777777778,
              "#fb9f3a"
             ],
             [
              0.8888888888888888,
              "#fdca26"
             ],
             [
              1,
              "#f0f921"
             ]
            ],
            "type": "heatmapgl"
           }
          ],
          "histogram": [
           {
            "marker": {
             "pattern": {
              "fillmode": "overlay",
              "size": 10,
              "solidity": 0.2
             }
            },
            "type": "histogram"
           }
          ],
          "histogram2d": [
           {
            "colorbar": {
             "outlinewidth": 0,
             "ticks": ""
            },
            "colorscale": [
             [
              0,
              "#0d0887"
             ],
             [
              0.1111111111111111,
              "#46039f"
             ],
             [
              0.2222222222222222,
              "#7201a8"
             ],
             [
              0.3333333333333333,
              "#9c179e"
             ],
             [
              0.4444444444444444,
              "#bd3786"
             ],
             [
              0.5555555555555556,
              "#d8576b"
             ],
             [
              0.6666666666666666,
              "#ed7953"
             ],
             [
              0.7777777777777778,
              "#fb9f3a"
             ],
             [
              0.8888888888888888,
              "#fdca26"
             ],
             [
              1,
              "#f0f921"
             ]
            ],
            "type": "histogram2d"
           }
          ],
          "histogram2dcontour": [
           {
            "colorbar": {
             "outlinewidth": 0,
             "ticks": ""
            },
            "colorscale": [
             [
              0,
              "#0d0887"
             ],
             [
              0.1111111111111111,
              "#46039f"
             ],
             [
              0.2222222222222222,
              "#7201a8"
             ],
             [
              0.3333333333333333,
              "#9c179e"
             ],
             [
              0.4444444444444444,
              "#bd3786"
             ],
             [
              0.5555555555555556,
              "#d8576b"
             ],
             [
              0.6666666666666666,
              "#ed7953"
             ],
             [
              0.7777777777777778,
              "#fb9f3a"
             ],
             [
              0.8888888888888888,
              "#fdca26"
             ],
             [
              1,
              "#f0f921"
             ]
            ],
            "type": "histogram2dcontour"
           }
          ],
          "mesh3d": [
           {
            "colorbar": {
             "outlinewidth": 0,
             "ticks": ""
            },
            "type": "mesh3d"
           }
          ],
          "parcoords": [
           {
            "line": {
             "colorbar": {
              "outlinewidth": 0,
              "ticks": ""
             }
            },
            "type": "parcoords"
           }
          ],
          "pie": [
           {
            "automargin": true,
            "type": "pie"
           }
          ],
          "scatter": [
           {
            "fillpattern": {
             "fillmode": "overlay",
             "size": 10,
             "solidity": 0.2
            },
            "type": "scatter"
           }
          ],
          "scatter3d": [
           {
            "line": {
             "colorbar": {
              "outlinewidth": 0,
              "ticks": ""
             }
            },
            "marker": {
             "colorbar": {
              "outlinewidth": 0,
              "ticks": ""
             }
            },
            "type": "scatter3d"
           }
          ],
          "scattercarpet": [
           {
            "marker": {
             "colorbar": {
              "outlinewidth": 0,
              "ticks": ""
             }
            },
            "type": "scattercarpet"
           }
          ],
          "scattergeo": [
           {
            "marker": {
             "colorbar": {
              "outlinewidth": 0,
              "ticks": ""
             }
            },
            "type": "scattergeo"
           }
          ],
          "scattergl": [
           {
            "marker": {
             "colorbar": {
              "outlinewidth": 0,
              "ticks": ""
             }
            },
            "type": "scattergl"
           }
          ],
          "scattermapbox": [
           {
            "marker": {
             "colorbar": {
              "outlinewidth": 0,
              "ticks": ""
             }
            },
            "type": "scattermapbox"
           }
          ],
          "scatterpolar": [
           {
            "marker": {
             "colorbar": {
              "outlinewidth": 0,
              "ticks": ""
             }
            },
            "type": "scatterpolar"
           }
          ],
          "scatterpolargl": [
           {
            "marker": {
             "colorbar": {
              "outlinewidth": 0,
              "ticks": ""
             }
            },
            "type": "scatterpolargl"
           }
          ],
          "scatterternary": [
           {
            "marker": {
             "colorbar": {
              "outlinewidth": 0,
              "ticks": ""
             }
            },
            "type": "scatterternary"
           }
          ],
          "surface": [
           {
            "colorbar": {
             "outlinewidth": 0,
             "ticks": ""
            },
            "colorscale": [
             [
              0,
              "#0d0887"
             ],
             [
              0.1111111111111111,
              "#46039f"
             ],
             [
              0.2222222222222222,
              "#7201a8"
             ],
             [
              0.3333333333333333,
              "#9c179e"
             ],
             [
              0.4444444444444444,
              "#bd3786"
             ],
             [
              0.5555555555555556,
              "#d8576b"
             ],
             [
              0.6666666666666666,
              "#ed7953"
             ],
             [
              0.7777777777777778,
              "#fb9f3a"
             ],
             [
              0.8888888888888888,
              "#fdca26"
             ],
             [
              1,
              "#f0f921"
             ]
            ],
            "type": "surface"
           }
          ],
          "table": [
           {
            "cells": {
             "fill": {
              "color": "#EBF0F8"
             },
             "line": {
              "color": "white"
             }
            },
            "header": {
             "fill": {
              "color": "#C8D4E3"
             },
             "line": {
              "color": "white"
             }
            },
            "type": "table"
           }
          ]
         },
         "layout": {
          "annotationdefaults": {
           "arrowcolor": "#2a3f5f",
           "arrowhead": 0,
           "arrowwidth": 1
          },
          "autotypenumbers": "strict",
          "coloraxis": {
           "colorbar": {
            "outlinewidth": 0,
            "ticks": ""
           }
          },
          "colorscale": {
           "diverging": [
            [
             0,
             "#8e0152"
            ],
            [
             0.1,
             "#c51b7d"
            ],
            [
             0.2,
             "#de77ae"
            ],
            [
             0.3,
             "#f1b6da"
            ],
            [
             0.4,
             "#fde0ef"
            ],
            [
             0.5,
             "#f7f7f7"
            ],
            [
             0.6,
             "#e6f5d0"
            ],
            [
             0.7,
             "#b8e186"
            ],
            [
             0.8,
             "#7fbc41"
            ],
            [
             0.9,
             "#4d9221"
            ],
            [
             1,
             "#276419"
            ]
           ],
           "sequential": [
            [
             0,
             "#0d0887"
            ],
            [
             0.1111111111111111,
             "#46039f"
            ],
            [
             0.2222222222222222,
             "#7201a8"
            ],
            [
             0.3333333333333333,
             "#9c179e"
            ],
            [
             0.4444444444444444,
             "#bd3786"
            ],
            [
             0.5555555555555556,
             "#d8576b"
            ],
            [
             0.6666666666666666,
             "#ed7953"
            ],
            [
             0.7777777777777778,
             "#fb9f3a"
            ],
            [
             0.8888888888888888,
             "#fdca26"
            ],
            [
             1,
             "#f0f921"
            ]
           ],
           "sequentialminus": [
            [
             0,
             "#0d0887"
            ],
            [
             0.1111111111111111,
             "#46039f"
            ],
            [
             0.2222222222222222,
             "#7201a8"
            ],
            [
             0.3333333333333333,
             "#9c179e"
            ],
            [
             0.4444444444444444,
             "#bd3786"
            ],
            [
             0.5555555555555556,
             "#d8576b"
            ],
            [
             0.6666666666666666,
             "#ed7953"
            ],
            [
             0.7777777777777778,
             "#fb9f3a"
            ],
            [
             0.8888888888888888,
             "#fdca26"
            ],
            [
             1,
             "#f0f921"
            ]
           ]
          },
          "colorway": [
           "#636efa",
           "#EF553B",
           "#00cc96",
           "#ab63fa",
           "#FFA15A",
           "#19d3f3",
           "#FF6692",
           "#B6E880",
           "#FF97FF",
           "#FECB52"
          ],
          "font": {
           "color": "#2a3f5f"
          },
          "geo": {
           "bgcolor": "white",
           "lakecolor": "white",
           "landcolor": "#E5ECF6",
           "showlakes": true,
           "showland": true,
           "subunitcolor": "white"
          },
          "hoverlabel": {
           "align": "left"
          },
          "hovermode": "closest",
          "mapbox": {
           "style": "light"
          },
          "paper_bgcolor": "white",
          "plot_bgcolor": "#E5ECF6",
          "polar": {
           "angularaxis": {
            "gridcolor": "white",
            "linecolor": "white",
            "ticks": ""
           },
           "bgcolor": "#E5ECF6",
           "radialaxis": {
            "gridcolor": "white",
            "linecolor": "white",
            "ticks": ""
           }
          },
          "scene": {
           "xaxis": {
            "backgroundcolor": "#E5ECF6",
            "gridcolor": "white",
            "gridwidth": 2,
            "linecolor": "white",
            "showbackground": true,
            "ticks": "",
            "zerolinecolor": "white"
           },
           "yaxis": {
            "backgroundcolor": "#E5ECF6",
            "gridcolor": "white",
            "gridwidth": 2,
            "linecolor": "white",
            "showbackground": true,
            "ticks": "",
            "zerolinecolor": "white"
           },
           "zaxis": {
            "backgroundcolor": "#E5ECF6",
            "gridcolor": "white",
            "gridwidth": 2,
            "linecolor": "white",
            "showbackground": true,
            "ticks": "",
            "zerolinecolor": "white"
           }
          },
          "shapedefaults": {
           "line": {
            "color": "#2a3f5f"
           }
          },
          "ternary": {
           "aaxis": {
            "gridcolor": "white",
            "linecolor": "white",
            "ticks": ""
           },
           "baxis": {
            "gridcolor": "white",
            "linecolor": "white",
            "ticks": ""
           },
           "bgcolor": "#E5ECF6",
           "caxis": {
            "gridcolor": "white",
            "linecolor": "white",
            "ticks": ""
           }
          },
          "title": {
           "x": 0.05
          },
          "xaxis": {
           "automargin": true,
           "gridcolor": "white",
           "linecolor": "white",
           "ticks": "",
           "title": {
            "standoff": 15
           },
           "zerolinecolor": "white",
           "zerolinewidth": 2
          },
          "yaxis": {
           "automargin": true,
           "gridcolor": "white",
           "linecolor": "white",
           "ticks": "",
           "title": {
            "standoff": 15
           },
           "zerolinecolor": "white",
           "zerolinewidth": 2
          }
         }
        },
        "title": {
         "text": "Target statistics"
        },
        "xaxis": {
         "anchor": "y",
         "domain": [
          0,
          0.45
         ],
         "matches": "x5",
         "showticklabels": false
        },
        "xaxis2": {
         "anchor": "y2",
         "domain": [
          0.55,
          1
         ],
         "matches": "x6",
         "showticklabels": false
        },
        "xaxis3": {
         "anchor": "y3",
         "domain": [
          0,
          0.45
         ],
         "matches": "x5",
         "showticklabels": false
        },
        "xaxis4": {
         "anchor": "y4",
         "domain": [
          0.55,
          1
         ],
         "matches": "x6",
         "showticklabels": false
        },
        "xaxis5": {
         "anchor": "y5",
         "domain": [
          0,
          0.45
         ],
         "title": {
          "text": "Target"
         }
        },
        "xaxis6": {
         "anchor": "y6",
         "domain": [
          0.55,
          1
         ],
         "title": {
          "text": "Target"
         }
        },
        "yaxis": {
         "anchor": "x",
         "domain": [
          0.7777777777777778,
          1
         ]
        },
        "yaxis2": {
         "anchor": "x2",
         "domain": [
          0.7777777777777778,
          1
         ]
        },
        "yaxis3": {
         "anchor": "x3",
         "domain": [
          0.3888888888888889,
          0.6111111111111112
         ]
        },
        "yaxis4": {
         "anchor": "x4",
         "domain": [
          0.3888888888888889,
          0.6111111111111112
         ]
        },
        "yaxis5": {
         "anchor": "x5",
         "domain": [
          0,
          0.22222222222222224
         ]
        },
        "yaxis6": {
         "anchor": "x6",
         "domain": [
          0,
          0.22222222222222224
         ]
        }
       }
      },
      "text/html": [
       "<div>                            <div id=\"aa1f1731-c280-46fd-9926-c53376f1fcc3\" class=\"plotly-graph-div\" style=\"height:525px; width:100%;\"></div>            <script type=\"text/javascript\">                require([\"plotly\"], function(Plotly) {                    window.PLOTLYENV=window.PLOTLYENV || {};                                    if (document.getElementById(\"aa1f1731-c280-46fd-9926-c53376f1fcc3\")) {                    Plotly.newPlot(                        \"aa1f1731-c280-46fd-9926-c53376f1fcc3\",                        [{\"x\":[0.0,1.0,2.0,3.0],\"y\":[-0.037652448426294866,-0.04697591605569914,0.03797938752668238,0.06822748661665154],\"type\":\"bar\",\"xaxis\":\"x\",\"yaxis\":\"y\"},{\"x\":[0.0,1.0,2.0,3.0],\"y\":[-0.048131999319756244,-0.05222189920065285,0.04694136405752597,0.06008738237087661],\"type\":\"bar\",\"xaxis\":\"x2\",\"yaxis\":\"y2\"},{\"x\":[0.0,1.0,2.0,3.0],\"y\":[0.14378323347149086,-0.01816941140865916,-0.02274298089804024,0.051530787751660104],\"type\":\"bar\",\"xaxis\":\"x3\",\"yaxis\":\"y3\"},{\"x\":[0.0,1.0,2.0,3.0],\"y\":[0.006108647837364567,0.017566036287055983,-0.014027657931176054,-0.018979999671589656],\"type\":\"bar\",\"xaxis\":\"x4\",\"yaxis\":\"y4\"},{\"x\":[0.0,1.0,2.0,3.0],\"y\":[0.0127316727657821,0.0032011214303035588,-0.0018035620312123854,-0.01213697859948254],\"type\":\"bar\",\"xaxis\":\"x5\",\"yaxis\":\"y5\"},{\"x\":[0.0,1.0,2.0,3.0],\"y\":[0.8383775680353388,-0.2052669266925417,-0.19639453557410289,1.0286098483785684],\"type\":\"bar\",\"xaxis\":\"x6\",\"yaxis\":\"y6\"}],                        {\"template\":{\"data\":{\"histogram2dcontour\":[{\"type\":\"histogram2dcontour\",\"colorbar\":{\"outlinewidth\":0,\"ticks\":\"\"},\"colorscale\":[[0.0,\"#0d0887\"],[0.1111111111111111,\"#46039f\"],[0.2222222222222222,\"#7201a8\"],[0.3333333333333333,\"#9c179e\"],[0.4444444444444444,\"#bd3786\"],[0.5555555555555556,\"#d8576b\"],[0.6666666666666666,\"#ed7953\"],[0.7777777777777778,\"#fb9f3a\"],[0.8888888888888888,\"#fdca26\"],[1.0,\"#f0f921\"]]}],\"choropleth\":[{\"type\":\"choropleth\",\"colorbar\":{\"outlinewidth\":0,\"ticks\":\"\"}}],\"histogram2d\":[{\"type\":\"histogram2d\",\"colorbar\":{\"outlinewidth\":0,\"ticks\":\"\"},\"colorscale\":[[0.0,\"#0d0887\"],[0.1111111111111111,\"#46039f\"],[0.2222222222222222,\"#7201a8\"],[0.3333333333333333,\"#9c179e\"],[0.4444444444444444,\"#bd3786\"],[0.5555555555555556,\"#d8576b\"],[0.6666666666666666,\"#ed7953\"],[0.7777777777777778,\"#fb9f3a\"],[0.8888888888888888,\"#fdca26\"],[1.0,\"#f0f921\"]]}],\"heatmap\":[{\"type\":\"heatmap\",\"colorbar\":{\"outlinewidth\":0,\"ticks\":\"\"},\"colorscale\":[[0.0,\"#0d0887\"],[0.1111111111111111,\"#46039f\"],[0.2222222222222222,\"#7201a8\"],[0.3333333333333333,\"#9c179e\"],[0.4444444444444444,\"#bd3786\"],[0.5555555555555556,\"#d8576b\"],[0.6666666666666666,\"#ed7953\"],[0.7777777777777778,\"#fb9f3a\"],[0.8888888888888888,\"#fdca26\"],[1.0,\"#f0f921\"]]}],\"heatmapgl\":[{\"type\":\"heatmapgl\",\"colorbar\":{\"outlinewidth\":0,\"ticks\":\"\"},\"colorscale\":[[0.0,\"#0d0887\"],[0.1111111111111111,\"#46039f\"],[0.2222222222222222,\"#7201a8\"],[0.3333333333333333,\"#9c179e\"],[0.4444444444444444,\"#bd3786\"],[0.5555555555555556,\"#d8576b\"],[0.6666666666666666,\"#ed7953\"],[0.7777777777777778,\"#fb9f3a\"],[0.8888888888888888,\"#fdca26\"],[1.0,\"#f0f921\"]]}],\"contourcarpet\":[{\"type\":\"contourcarpet\",\"colorbar\":{\"outlinewidth\":0,\"ticks\":\"\"}}],\"contour\":[{\"type\":\"contour\",\"colorbar\":{\"outlinewidth\":0,\"ticks\":\"\"},\"colorscale\":[[0.0,\"#0d0887\"],[0.1111111111111111,\"#46039f\"],[0.2222222222222222,\"#7201a8\"],[0.3333333333333333,\"#9c179e\"],[0.4444444444444444,\"#bd3786\"],[0.5555555555555556,\"#d8576b\"],[0.6666666666666666,\"#ed7953\"],[0.7777777777777778,\"#fb9f3a\"],[0.8888888888888888,\"#fdca26\"],[1.0,\"#f0f921\"]]}],\"surface\":[{\"type\":\"surface\",\"colorbar\":{\"outlinewidth\":0,\"ticks\":\"\"},\"colorscale\":[[0.0,\"#0d0887\"],[0.1111111111111111,\"#46039f\"],[0.2222222222222222,\"#7201a8\"],[0.3333333333333333,\"#9c179e\"],[0.4444444444444444,\"#bd3786\"],[0.5555555555555556,\"#d8576b\"],[0.6666666666666666,\"#ed7953\"],[0.7777777777777778,\"#fb9f3a\"],[0.8888888888888888,\"#fdca26\"],[1.0,\"#f0f921\"]]}],\"mesh3d\":[{\"type\":\"mesh3d\",\"colorbar\":{\"outlinewidth\":0,\"ticks\":\"\"}}],\"scatter\":[{\"fillpattern\":{\"fillmode\":\"overlay\",\"size\":10,\"solidity\":0.2},\"type\":\"scatter\"}],\"parcoords\":[{\"type\":\"parcoords\",\"line\":{\"colorbar\":{\"outlinewidth\":0,\"ticks\":\"\"}}}],\"scatterpolargl\":[{\"type\":\"scatterpolargl\",\"marker\":{\"colorbar\":{\"outlinewidth\":0,\"ticks\":\"\"}}}],\"bar\":[{\"error_x\":{\"color\":\"#2a3f5f\"},\"error_y\":{\"color\":\"#2a3f5f\"},\"marker\":{\"line\":{\"color\":\"#E5ECF6\",\"width\":0.5},\"pattern\":{\"fillmode\":\"overlay\",\"size\":10,\"solidity\":0.2}},\"type\":\"bar\"}],\"scattergeo\":[{\"type\":\"scattergeo\",\"marker\":{\"colorbar\":{\"outlinewidth\":0,\"ticks\":\"\"}}}],\"scatterpolar\":[{\"type\":\"scatterpolar\",\"marker\":{\"colorbar\":{\"outlinewidth\":0,\"ticks\":\"\"}}}],\"histogram\":[{\"marker\":{\"pattern\":{\"fillmode\":\"overlay\",\"size\":10,\"solidity\":0.2}},\"type\":\"histogram\"}],\"scattergl\":[{\"type\":\"scattergl\",\"marker\":{\"colorbar\":{\"outlinewidth\":0,\"ticks\":\"\"}}}],\"scatter3d\":[{\"type\":\"scatter3d\",\"line\":{\"colorbar\":{\"outlinewidth\":0,\"ticks\":\"\"}},\"marker\":{\"colorbar\":{\"outlinewidth\":0,\"ticks\":\"\"}}}],\"scattermapbox\":[{\"type\":\"scattermapbox\",\"marker\":{\"colorbar\":{\"outlinewidth\":0,\"ticks\":\"\"}}}],\"scatterternary\":[{\"type\":\"scatterternary\",\"marker\":{\"colorbar\":{\"outlinewidth\":0,\"ticks\":\"\"}}}],\"scattercarpet\":[{\"type\":\"scattercarpet\",\"marker\":{\"colorbar\":{\"outlinewidth\":0,\"ticks\":\"\"}}}],\"carpet\":[{\"aaxis\":{\"endlinecolor\":\"#2a3f5f\",\"gridcolor\":\"white\",\"linecolor\":\"white\",\"minorgridcolor\":\"white\",\"startlinecolor\":\"#2a3f5f\"},\"baxis\":{\"endlinecolor\":\"#2a3f5f\",\"gridcolor\":\"white\",\"linecolor\":\"white\",\"minorgridcolor\":\"white\",\"startlinecolor\":\"#2a3f5f\"},\"type\":\"carpet\"}],\"table\":[{\"cells\":{\"fill\":{\"color\":\"#EBF0F8\"},\"line\":{\"color\":\"white\"}},\"header\":{\"fill\":{\"color\":\"#C8D4E3\"},\"line\":{\"color\":\"white\"}},\"type\":\"table\"}],\"barpolar\":[{\"marker\":{\"line\":{\"color\":\"#E5ECF6\",\"width\":0.5},\"pattern\":{\"fillmode\":\"overlay\",\"size\":10,\"solidity\":0.2}},\"type\":\"barpolar\"}],\"pie\":[{\"automargin\":true,\"type\":\"pie\"}]},\"layout\":{\"autotypenumbers\":\"strict\",\"colorway\":[\"#636efa\",\"#EF553B\",\"#00cc96\",\"#ab63fa\",\"#FFA15A\",\"#19d3f3\",\"#FF6692\",\"#B6E880\",\"#FF97FF\",\"#FECB52\"],\"font\":{\"color\":\"#2a3f5f\"},\"hovermode\":\"closest\",\"hoverlabel\":{\"align\":\"left\"},\"paper_bgcolor\":\"white\",\"plot_bgcolor\":\"#E5ECF6\",\"polar\":{\"bgcolor\":\"#E5ECF6\",\"angularaxis\":{\"gridcolor\":\"white\",\"linecolor\":\"white\",\"ticks\":\"\"},\"radialaxis\":{\"gridcolor\":\"white\",\"linecolor\":\"white\",\"ticks\":\"\"}},\"ternary\":{\"bgcolor\":\"#E5ECF6\",\"aaxis\":{\"gridcolor\":\"white\",\"linecolor\":\"white\",\"ticks\":\"\"},\"baxis\":{\"gridcolor\":\"white\",\"linecolor\":\"white\",\"ticks\":\"\"},\"caxis\":{\"gridcolor\":\"white\",\"linecolor\":\"white\",\"ticks\":\"\"}},\"coloraxis\":{\"colorbar\":{\"outlinewidth\":0,\"ticks\":\"\"}},\"colorscale\":{\"sequential\":[[0.0,\"#0d0887\"],[0.1111111111111111,\"#46039f\"],[0.2222222222222222,\"#7201a8\"],[0.3333333333333333,\"#9c179e\"],[0.4444444444444444,\"#bd3786\"],[0.5555555555555556,\"#d8576b\"],[0.6666666666666666,\"#ed7953\"],[0.7777777777777778,\"#fb9f3a\"],[0.8888888888888888,\"#fdca26\"],[1.0,\"#f0f921\"]],\"sequentialminus\":[[0.0,\"#0d0887\"],[0.1111111111111111,\"#46039f\"],[0.2222222222222222,\"#7201a8\"],[0.3333333333333333,\"#9c179e\"],[0.4444444444444444,\"#bd3786\"],[0.5555555555555556,\"#d8576b\"],[0.6666666666666666,\"#ed7953\"],[0.7777777777777778,\"#fb9f3a\"],[0.8888888888888888,\"#fdca26\"],[1.0,\"#f0f921\"]],\"diverging\":[[0,\"#8e0152\"],[0.1,\"#c51b7d\"],[0.2,\"#de77ae\"],[0.3,\"#f1b6da\"],[0.4,\"#fde0ef\"],[0.5,\"#f7f7f7\"],[0.6,\"#e6f5d0\"],[0.7,\"#b8e186\"],[0.8,\"#7fbc41\"],[0.9,\"#4d9221\"],[1,\"#276419\"]]},\"xaxis\":{\"gridcolor\":\"white\",\"linecolor\":\"white\",\"ticks\":\"\",\"title\":{\"standoff\":15},\"zerolinecolor\":\"white\",\"automargin\":true,\"zerolinewidth\":2},\"yaxis\":{\"gridcolor\":\"white\",\"linecolor\":\"white\",\"ticks\":\"\",\"title\":{\"standoff\":15},\"zerolinecolor\":\"white\",\"automargin\":true,\"zerolinewidth\":2},\"scene\":{\"xaxis\":{\"backgroundcolor\":\"#E5ECF6\",\"gridcolor\":\"white\",\"linecolor\":\"white\",\"showbackground\":true,\"ticks\":\"\",\"zerolinecolor\":\"white\",\"gridwidth\":2},\"yaxis\":{\"backgroundcolor\":\"#E5ECF6\",\"gridcolor\":\"white\",\"linecolor\":\"white\",\"showbackground\":true,\"ticks\":\"\",\"zerolinecolor\":\"white\",\"gridwidth\":2},\"zaxis\":{\"backgroundcolor\":\"#E5ECF6\",\"gridcolor\":\"white\",\"linecolor\":\"white\",\"showbackground\":true,\"ticks\":\"\",\"zerolinecolor\":\"white\",\"gridwidth\":2}},\"shapedefaults\":{\"line\":{\"color\":\"#2a3f5f\"}},\"annotationdefaults\":{\"arrowcolor\":\"#2a3f5f\",\"arrowhead\":0,\"arrowwidth\":1},\"geo\":{\"bgcolor\":\"white\",\"landcolor\":\"#E5ECF6\",\"subunitcolor\":\"white\",\"showland\":true,\"showlakes\":true,\"lakecolor\":\"white\"},\"title\":{\"x\":0.05},\"mapbox\":{\"style\":\"light\"}}},\"xaxis\":{\"anchor\":\"y\",\"domain\":[0.0,0.45],\"matches\":\"x5\",\"showticklabels\":false},\"yaxis\":{\"anchor\":\"x\",\"domain\":[0.7777777777777778,1.0]},\"xaxis2\":{\"anchor\":\"y2\",\"domain\":[0.55,1.0],\"matches\":\"x6\",\"showticklabels\":false},\"yaxis2\":{\"anchor\":\"x2\",\"domain\":[0.7777777777777778,1.0]},\"xaxis3\":{\"anchor\":\"y3\",\"domain\":[0.0,0.45],\"matches\":\"x5\",\"showticklabels\":false},\"yaxis3\":{\"anchor\":\"x3\",\"domain\":[0.3888888888888889,0.6111111111111112]},\"xaxis4\":{\"anchor\":\"y4\",\"domain\":[0.55,1.0],\"matches\":\"x6\",\"showticklabels\":false},\"yaxis4\":{\"anchor\":\"x4\",\"domain\":[0.3888888888888889,0.6111111111111112]},\"xaxis5\":{\"anchor\":\"y5\",\"domain\":[0.0,0.45],\"title\":{\"text\":\"Target\"}},\"yaxis5\":{\"anchor\":\"x5\",\"domain\":[0.0,0.22222222222222224]},\"xaxis6\":{\"anchor\":\"y6\",\"domain\":[0.55,1.0],\"title\":{\"text\":\"Target\"}},\"yaxis6\":{\"anchor\":\"x6\",\"domain\":[0.0,0.22222222222222224]},\"annotations\":[{\"font\":{\"size\":16},\"showarrow\":false,\"text\":\"liquidation_diff\",\"x\":0.225,\"xanchor\":\"center\",\"xref\":\"paper\",\"y\":1.0,\"yanchor\":\"bottom\",\"yref\":\"paper\"},{\"font\":{\"size\":16},\"showarrow\":false,\"text\":\"liquidation_usd_diff\",\"x\":0.775,\"xanchor\":\"center\",\"xref\":\"paper\",\"y\":1.0,\"yanchor\":\"bottom\",\"yref\":\"paper\"},{\"font\":{\"size\":16},\"showarrow\":false,\"text\":\"close\",\"x\":0.225,\"xanchor\":\"center\",\"xref\":\"paper\",\"y\":0.6111111111111112,\"yanchor\":\"bottom\",\"yref\":\"paper\"},{\"font\":{\"size\":16},\"showarrow\":false,\"text\":\"volume_diff\",\"x\":0.775,\"xanchor\":\"center\",\"xref\":\"paper\",\"y\":0.6111111111111112,\"yanchor\":\"bottom\",\"yref\":\"paper\"},{\"font\":{\"size\":16},\"showarrow\":false,\"text\":\"close_diff\",\"x\":0.225,\"xanchor\":\"center\",\"xref\":\"paper\",\"y\":0.22222222222222224,\"yanchor\":\"bottom\",\"yref\":\"paper\"},{\"font\":{\"size\":16},\"showarrow\":false,\"text\":\"volume\",\"x\":0.775,\"xanchor\":\"center\",\"xref\":\"paper\",\"y\":0.22222222222222224,\"yanchor\":\"bottom\",\"yref\":\"paper\"}],\"title\":{\"text\":\"Target statistics\"},\"showlegend\":false},                        {\"responsive\": true}                    ).then(function(){\n",
       "                            \n",
       "var gd = document.getElementById('aa1f1731-c280-46fd-9926-c53376f1fcc3');\n",
       "var x = new MutationObserver(function (mutations, observer) {{\n",
       "        var display = window.getComputedStyle(gd).display;\n",
       "        if (!display || display === 'none') {{\n",
       "            console.log([gd, 'removed!']);\n",
       "            Plotly.purge(gd);\n",
       "            observer.disconnect();\n",
       "        }}\n",
       "}});\n",
       "\n",
       "// Listen for the removal of the full notebook cells\n",
       "var notebookContainer = gd.closest('#notebook-container');\n",
       "if (notebookContainer) {{\n",
       "    x.observe(notebookContainer, {childList: true});\n",
       "}}\n",
       "\n",
       "// Listen for the clearing of the current output cell\n",
       "var outputEl = gd.closest('.output');\n",
       "if (outputEl) {{\n",
       "    x.observe(outputEl, {childList: true});\n",
       "}}\n",
       "\n",
       "                        })                };                });            </script>        </div>"
      ]
     },
     "metadata": {},
     "output_type": "display_data"
    }
   ],
   "source": [
    "fig: go.Figure = make_subplots(\n",
    "    rows = 3,\n",
    "    cols = 2,\n",
    "    shared_xaxes = True,\n",
    "    subplot_titles=(\n",
    "        \"liquidation_diff\",\n",
    "        \"liquidation_usd_diff\",\n",
    "        \"close\",\n",
    "        \"volume_diff\",\n",
    "        \"close_diff\",\n",
    "        \"volume\",\n",
    "    )\n",
    ")\n",
    "fig.add_trace(go.Bar(x=bar_df[\"target\"], y=bar_df[\"liquidation_diff\"]), row=1,col=1)\n",
    "fig.add_trace(go.Bar(x=bar_df[\"target\"], y=bar_df[\"liquidation_usd_diff\"]), row=1,col=2)\n",
    "fig.add_trace(go.Bar(x=bar_df[\"target\"], y=bar_df[\"close\"]), row=2,col=1)\n",
    "fig.add_trace(go.Bar(x=bar_df[\"target\"], y=bar_df[\"volume_diff\"]), row=2,col=2)\n",
    "fig.add_trace(go.Bar(x=bar_df[\"target\"], y=bar_df[\"close_diff\"]), row=3,col=1)\n",
    "fig.add_trace(go.Bar(x=bar_df[\"target\"], y=bar_df[\"volume\"]), row=3,col=2)\n",
    "fig.update_layout(title_text=\"Target statistics\", showlegend=False)\n",
    "fig.update_xaxes(title_text=\"Target\", row=3)\n",
    "fig.show()"
   ]
  },
  {
   "cell_type": "code",
   "execution_count": 31,
   "metadata": {},
   "outputs": [],
   "source": [
    "def shift_feature(\n",
    "    df: pd.DataFrame,\n",
    "    conti_cols: List[str],\n",
    "    intervals: List[int],\n",
    ") -> List[pd.Series]:\n",
    "    \"\"\"\n",
    "    연속형 변수의 shift feature 생성\n",
    "    Args:\n",
    "        df (pd.DataFrame)\n",
    "        conti_cols (List[str]): continuous colnames\n",
    "        intervals (List[int]): shifted intervals\n",
    "    Return:\n",
    "        List[pd.Series]\n",
    "    \"\"\"\n",
    "    df_shift_dict = [\n",
    "        df[conti_col].shift(interval).rename(f\"{conti_col}_{interval}\")\n",
    "        for conti_col in conti_cols\n",
    "        for interval in intervals\n",
    "    ]\n",
    "    return df_shift_dict\n",
    "\n",
    "# 최대 24시간의 shift 피쳐를 계산\n",
    "shift_list = shift_feature(\n",
    "    df=df, conti_cols=conti_cols, intervals=[_ for _ in range(1, 24)]\n",
    ")"
   ]
  },
  {
   "cell_type": "code",
   "execution_count": 32,
   "metadata": {},
   "outputs": [],
   "source": [
    "# concat 하여 df 에 할당\n",
    "df = pd.concat([df, pd.concat(shift_list, axis=1)], axis=1)\n",
    "\n",
    "# 타겟 변수를 제외한 변수를 forwardfill, -999로 결측치 대체\n",
    "_target = df[\"target\"]\n",
    "df = df.ffill().fillna(-999).assign(target = _target)\n",
    "\n",
    "# _type에 따라 train, test 분리\n",
    "train_df = df.loc[df[\"_type\"]==\"train\"].drop(columns=[\"_type\"])\n",
    "test_df = df.loc[df[\"_type\"]==\"test\"].drop(columns=[\"_type\"])\n"
   ]
  },
  {
   "cell_type": "markdown",
   "metadata": {},
   "source": [
    "BlockingTimeSeriesSplit 교차검증"
   ]
  },
  {
   "cell_type": "code",
   "execution_count": 174,
   "metadata": {},
   "outputs": [
    {
     "name": "stderr",
     "output_type": "stream",
     "text": [
      "/data/ephemeral/home/myenv/lib/python3.11/site-packages/lightgbm/engine.py:172: UserWarning:\n",
      "\n",
      "Found `n_estimators` in params. Will use it instead of argument\n",
      "\n"
     ]
    },
    {
     "name": "stdout",
     "output_type": "stream",
     "text": [
      "[LightGBM] [Warning] No further splits with positive gain, best gain: -inf\n",
      "[LightGBM] [Warning] No further splits with positive gain, best gain: -inf\n"
     ]
    },
    {
     "name": "stderr",
     "output_type": "stream",
     "text": [
      "/data/ephemeral/home/myenv/lib/python3.11/site-packages/lightgbm/engine.py:172: UserWarning:\n",
      "\n",
      "Found `n_estimators` in params. Will use it instead of argument\n",
      "\n"
     ]
    },
    {
     "name": "stdout",
     "output_type": "stream",
     "text": [
      "[LightGBM] [Warning] No further splits with positive gain, best gain: -inf\n",
      "[LightGBM] [Warning] No further splits with positive gain, best gain: -inf\n"
     ]
    },
    {
     "name": "stderr",
     "output_type": "stream",
     "text": [
      "/data/ephemeral/home/myenv/lib/python3.11/site-packages/lightgbm/engine.py:172: UserWarning:\n",
      "\n",
      "Found `n_estimators` in params. Will use it instead of argument\n",
      "\n"
     ]
    },
    {
     "name": "stdout",
     "output_type": "stream",
     "text": [
      "[LightGBM] [Warning] No further splits with positive gain, best gain: -inf\n"
     ]
    },
    {
     "name": "stderr",
     "output_type": "stream",
     "text": [
      "/data/ephemeral/home/myenv/lib/python3.11/site-packages/lightgbm/engine.py:172: UserWarning:\n",
      "\n",
      "Found `n_estimators` in params. Will use it instead of argument\n",
      "\n"
     ]
    },
    {
     "name": "stdout",
     "output_type": "stream",
     "text": [
      "[LightGBM] [Warning] No further splits with positive gain, best gain: -inf\n",
      "[LightGBM] [Warning] No further splits with positive gain, best gain: -inf\n"
     ]
    },
    {
     "name": "stderr",
     "output_type": "stream",
     "text": [
      "/data/ephemeral/home/myenv/lib/python3.11/site-packages/lightgbm/engine.py:172: UserWarning:\n",
      "\n",
      "Found `n_estimators` in params. Will use it instead of argument\n",
      "\n"
     ]
    },
    {
     "name": "stdout",
     "output_type": "stream",
     "text": [
      "[LightGBM] [Warning] No further splits with positive gain, best gain: -inf\n",
      "[LightGBM] [Warning] No further splits with positive gain, best gain: -inf\n",
      "Mean accuracy: 0.3851851851851852, Mean AUROC: 0.5782241153224245\n"
     ]
    }
   ],
   "source": [
    "import xgboost as xgb\n",
    "\n",
    "class BlockingTimeSeriesSplit():\n",
    "    def __init__(self, n_splits):\n",
    "        self.n_splits = n_splits\n",
    "    \n",
    "    def get_n_splits(self, groups):\n",
    "        return self.n_splits\n",
    "    \n",
    "    def split(self, X, y=None, groups=None):\n",
    "        n_samples = len(X)\n",
    "        k_fold_size = n_samples // self.n_splits\n",
    "        indices = np.arange(n_samples)\n",
    "    \n",
    "        margin = 0\n",
    "        for i in range(self.n_splits):\n",
    "            start = i * k_fold_size\n",
    "            stop = start + k_fold_size\n",
    "            mid = int(0.8 * (stop - start)) + start\n",
    "            yield indices[start: mid], indices[mid + margin: stop]\n",
    "\n",
    "btscv = BlockingTimeSeriesSplit(n_splits=5)\n",
    "x_train_full = train_df.drop([\"target\", \"ID\"], axis = 1)\n",
    "y_train_full = train_df[\"target\"].astype(int)\n",
    "\n",
    "# 클래스 가중치 설정\n",
    "class_weights = {0: 4.0, 1: 1.0, 2: 1.0, 3: 4.0}\n",
    "\n",
    "params = {\n",
    "    \"boosting_type\": \"gbdt\",\n",
    "    \"objective\": \"multiclass\",\n",
    "    \"metric\": \"multi_logloss\",\n",
    "    \"num_class\": 4,\n",
    "    \"num_leaves\": 50,\n",
    "    \"learning_rate\": 0.1,\n",
    "    \"n_estimators\": 30,\n",
    "    \"random_state\": 42,\n",
    "    \"verbose\": 0,\n",
    "    \"is_unbalance\": True,\n",
    "}\n",
    "\n",
    "# 여러 분할에 대해 모델 평가\n",
    "accuracies = []\n",
    "aurocs = []\n",
    "\n",
    "for train_index, valid_index in btscv.split(x_train_full):\n",
    "    x_train, x_valid = x_train_full.iloc[train_index], x_train_full.iloc[valid_index]\n",
    "    y_train, y_valid = y_train_full.iloc[train_index], y_train_full.iloc[valid_index]\n",
    "    \n",
    "    # lgb dataset\n",
    "    train_data = lgb.Dataset(x_train, label=y_train, weight=[class_weights[y] for y in y_train])\n",
    "    valid_data = lgb.Dataset(x_valid, label=y_valid, reference=train_data)\n",
    "    \n",
    "    # lgb train\n",
    "    lgb_model = lgb.train(\n",
    "        params=params,\n",
    "        train_set=train_data,\n",
    "        valid_sets=valid_data\n",
    "    )\n",
    "\n",
    "    # XGBoost dataset\n",
    "    train_data_xgb = xgb.DMatrix(x_train, label=y_train)\n",
    "    valid_data_xgb = xgb.DMatrix(x_valid, label=y_valid)\n",
    "    \n",
    "    # XGBoost params\n",
    "    params_xgb = {\n",
    "        \"objective\": \"multi:softprob\",\n",
    "        \"num_class\": 4,\n",
    "        \"eval_metric\": \"mlogloss\",\n",
    "        \"eta\": 0.1,\n",
    "        \"max_depth\": 6,\n",
    "        \"subsample\": 0.8,\n",
    "        \"colsample_bytree\": 0.8,\n",
    "        \"seed\": 42,\n",
    "    }\n",
    "    \n",
    "    # XGBoost train\n",
    "    xgb_model = xgb.train(\n",
    "        params=params_xgb,\n",
    "        dtrain=train_data_xgb,\n",
    "        num_boost_round=30,\n",
    "        evals=[(valid_data_xgb, 'eval')],\n",
    "        verbose_eval=False\n",
    "    )\n",
    "    \n",
    "    y_valid_pred_lgb = lgb_model.predict(x_valid)\n",
    "    y_valid_pred_xgb = xgb_model.predict(valid_data_xgb)\n",
    "\n",
    "    y_valid_pred_ensemble = (y_valid_pred_lgb + y_valid_pred_xgb) / 2\n",
    "    \n",
    "    y_valid_pred_class_ensemble = np.argmax(y_valid_pred_ensemble, axis=1)\n",
    "    \n",
    "    accuracy = accuracy_score(y_valid, y_valid_pred_class_ensemble)\n",
    "    auroc = roc_auc_score(y_valid, y_valid_pred_ensemble, multi_class=\"ovr\")\n",
    "    \n",
    "    accuracies.append(accuracy)\n",
    "    aurocs.append(auroc)\n",
    "\n",
    "print(f\"Mean accuracy: {np.mean(accuracies)}, Mean AUROC: {np.mean(aurocs)}\")"
   ]
  },
  {
   "cell_type": "markdown",
   "metadata": {},
   "source": [
    "LGBM split"
   ]
  },
  {
   "cell_type": "code",
   "execution_count": 33,
   "metadata": {},
   "outputs": [
    {
     "name": "stderr",
     "output_type": "stream",
     "text": [
      "/data/ephemeral/home/myenv/lib/python3.11/site-packages/lightgbm/engine.py:172: UserWarning: Found `n_estimators` in params. Will use it instead of argument\n",
      "  _log_warning(f\"Found `{alias}` in params. Will use it instead of argument\")\n"
     ]
    },
    {
     "name": "stdout",
     "output_type": "stream",
     "text": [
      "acc: 0.4646118721461187, auroc: 0.6551947874904951\n"
     ]
    }
   ],
   "source": [
    "# train_test_split 으로 valid set, train set 분리\n",
    "x_train, x_valid, y_train, y_valid = train_test_split(\n",
    "    train_df.drop([\"target\", \"ID\"], axis = 1), \n",
    "    train_df[\"target\"].astype(int), \n",
    "    test_size=0.2,\n",
    "    random_state=42,\n",
    ")\n",
    "\n",
    "# lgb dataset\n",
    "train_data = lgb.Dataset(x_train, label=y_train)\n",
    "valid_data = lgb.Dataset(x_valid, label=y_valid, reference=train_data)\n",
    "\n",
    "# lgb params\n",
    "params = {\n",
    "    \"boosting_type\": \"gbdt\",\n",
    "    \"objective\": \"multiclass\",\n",
    "    \"metric\": \"multi_logloss\",\n",
    "    \"num_class\": 4,\n",
    "    \"num_leaves\": 50,\n",
    "    \"learning_rate\": 0.05,\n",
    "    \"n_estimators\": 30,\n",
    "    \"random_state\": 42,\n",
    "    \"verbose\": 0,\n",
    "}\n",
    "\n",
    "# lgb train\n",
    "lgb_model = lgb.train(\n",
    "    params=params,\n",
    "    train_set=train_data,\n",
    "    valid_sets=valid_data,\n",
    ")\n",
    "\n",
    "# lgb predict\n",
    "y_valid_pred = lgb_model.predict(x_valid)\n",
    "y_valid_pred_class = np.argmax(y_valid_pred, axis = 1)\n",
    "\n",
    "# score check\n",
    "accuracy = accuracy_score(y_valid, y_valid_pred_class)\n",
    "auroc = roc_auc_score(y_valid, y_valid_pred, multi_class=\"ovr\")\n",
    "\n",
    "print(f\"acc: {accuracy}, auroc: {auroc}\")"
   ]
  },
  {
   "cell_type": "code",
   "execution_count": 161,
   "metadata": {},
   "outputs": [
    {
     "name": "stderr",
     "output_type": "stream",
     "text": [
      "/data/ephemeral/home/myenv/lib/python3.11/site-packages/lightgbm/engine.py:172: UserWarning:\n",
      "\n",
      "Found `n_estimators` in params. Will use it instead of argument\n",
      "\n"
     ]
    },
    {
     "name": "stdout",
     "output_type": "stream",
     "text": [
      "Class 0: 6 instances\n",
      "Class 1: 1173 instances\n",
      "Class 2: 1599 instances\n",
      "Class 3: 14 instances\n"
     ]
    }
   ],
   "source": [
    "x_train = train_df.drop([\"target\", \"ID\"], axis = 1)\n",
    "y_train = train_df[\"target\"].astype(int)\n",
    "\n",
    "# LightGBM 전체 데이터로 재학습\n",
    "train_data_lgb = lgb.Dataset(x_train, label=y_train)\n",
    "lgb_model = lgb.train(\n",
    "    params=params,\n",
    "    train_set=train_data_lgb\n",
    ")\n",
    "\n",
    "# XGBoost 전체 데이터로 재학습\n",
    "train_data_xgb = xgb.DMatrix(x_train, label=y_train)\n",
    "xgb_model = xgb.train(\n",
    "    params=params_xgb,\n",
    "    dtrain=train_data_xgb,\n",
    "    num_boost_round=30\n",
    ")\n",
    "\n",
    "# 테스트 데이터 예측\n",
    "y_test_pred_lgb = lgb_model.predict(test_df.drop([\"target\", \"ID\"], axis = 1))\n",
    "y_test_pred_xgb = xgb_model.predict(xgb.DMatrix(test_df.drop([\"target\", \"ID\"], axis = 1)))\n",
    "\n",
    "# 앙상블 예측 (평균)\n",
    "y_test_pred_ensemble = (y_test_pred_lgb + y_test_pred_xgb) / 2\n",
    "\n",
    "# 클래스 예측\n",
    "y_test_pred_class_ensemble = np.argmax(y_test_pred_ensemble, axis=1)\n",
    "\n",
    "# 각 클래스의 개수 출력\n",
    "class_counts = np.bincount(y_test_pred_class_ensemble, minlength=4)\n",
    "for i, count in enumerate(class_counts):\n",
    "    print(f\"Class {i}: {count} instances\")"
   ]
  },
  {
   "cell_type": "code",
   "execution_count": 34,
   "metadata": {},
   "outputs": [
    {
     "name": "stderr",
     "output_type": "stream",
     "text": [
      "/data/ephemeral/home/myenv/lib/python3.11/site-packages/lightgbm/engine.py:172: UserWarning: Found `n_estimators` in params. Will use it instead of argument\n",
      "  _log_warning(f\"Found `{alias}` in params. Will use it instead of argument\")\n"
     ]
    }
   ],
   "source": [
    "# performance 체크후 전체 학습 데이터로 다시 재학습\n",
    "x_train = train_df.drop([\"target\", \"ID\"], axis = 1)\n",
    "y_train = train_df[\"target\"].astype(int)\n",
    "train_data = lgb.Dataset(x_train, label=y_train)\n",
    "lgb_model = lgb.train(\n",
    "    params=params,\n",
    "    train_set=train_data,\n",
    ")"
   ]
  },
  {
   "cell_type": "code",
   "execution_count": 35,
   "metadata": {},
   "outputs": [],
   "source": [
    "# lgb predict\n",
    "y_test_pred = lgb_model.predict(test_df.drop([\"target\", \"ID\"], axis = 1))\n",
    "y_test_pred_class = np.argmax(y_test_pred, axis = 1)"
   ]
  },
  {
   "cell_type": "code",
   "execution_count": 36,
   "metadata": {},
   "outputs": [
    {
     "name": "stderr",
     "output_type": "stream",
     "text": [
      "/data/ephemeral/home/myenv/lib/python3.11/site-packages/tqdm/auto.py:21: TqdmWarning: IProgress not found. Please update jupyter and ipywidgets. See https://ipywidgets.readthedocs.io/en/stable/user_install.html\n",
      "  from .autonotebook import tqdm as notebook_tqdm\n"
     ]
    },
    {
     "name": "stdout",
     "output_type": "stream",
     "text": [
      "                      feature  importance\n",
      "10                 close_diff    0.095108\n",
      "6                 sell_volume    0.061294\n",
      "5                  buy_volume    0.040728\n",
      "150             sell_volume_1    0.030556\n",
      "9       buy_sell_volume_ratio    0.026995\n",
      "107      short_liquidations_4    0.013211\n",
      "11                     volume    0.012996\n",
      "196             volume_diff_1    0.011900\n",
      "216            volume_diff_21    0.011521\n",
      "242              close_diff_1    0.010995\n",
      "82        long_liquidations_2    0.010609\n",
      "3           long_liquidations    0.010509\n",
      "201             volume_diff_6    0.010044\n",
      "262             close_diff_21    0.009953\n",
      "8                 volume_diff    0.009749\n",
      "101      long_liquidations_21    0.009374\n",
      "105      short_liquidations_2    0.008514\n",
      "206            volume_diff_11    0.008339\n",
      "147             buy_volume_21    0.008332\n",
      "131              buy_volume_5    0.008239\n",
      "104      short_liquidations_1    0.008064\n",
      "180                   close_8    0.007808\n",
      "4          short_liquidations    0.007701\n",
      "219   buy_sell_volume_ratio_1    0.007521\n",
      "261             close_diff_20    0.007136\n",
      "264             close_diff_23    0.007061\n",
      "81        long_liquidations_1    0.006896\n",
      "7                       close    0.006550\n",
      "249              close_diff_8    0.006525\n",
      "172            sell_volume_23    0.006511\n",
      "199             volume_diff_4    0.006228\n",
      "247              close_diff_6    0.006226\n",
      "212            volume_diff_17    0.006209\n",
      "210            volume_diff_15    0.005975\n",
      "251             close_diff_10    0.005931\n",
      "241  buy_sell_volume_ratio_23    0.005791\n",
      "229  buy_sell_volume_ratio_11    0.005777\n",
      "198             volume_diff_3    0.005710\n",
      "263             close_diff_22    0.005684\n",
      "152             sell_volume_3    0.005531\n",
      "157             sell_volume_8    0.005489\n",
      "209            volume_diff_14    0.005483\n",
      "207            volume_diff_12    0.005404\n",
      "87        long_liquidations_7    0.005382\n",
      "103      long_liquidations_23    0.005331\n",
      "30           funding_rates_19    0.005251\n",
      "119     short_liquidations_16    0.005222\n",
      "124     short_liquidations_21    0.005157\n",
      "94       long_liquidations_14    0.005104\n",
      "223   buy_sell_volume_ratio_5    0.005081\n",
      "245              close_diff_4    0.005072\n",
      "244              close_diff_3    0.005046\n",
      "0               funding_rates    0.005042\n",
      "127              buy_volume_1    0.004880\n",
      "34           funding_rates_23    0.004874\n",
      "113     short_liquidations_10    0.004795\n",
      "239  buy_sell_volume_ratio_21    0.004720\n",
      "208            volume_diff_13    0.004531\n",
      "267                  volume_3    0.004374\n",
      "218            volume_diff_23    0.004338\n"
     ]
    }
   ],
   "source": [
    "import shap\n",
    "\n",
    "X_test = test_df.drop([\"target\", \"ID\"], axis=1)\n",
    "explainer = shap.TreeExplainer(lgb_model)\n",
    "shap_values = explainer.shap_values(X_test)\n",
    "mean_abs_shap_values = np.mean(np.abs(shap_values), axis=0).mean(axis=1)\n",
    "\n",
    "# 중요도 정렬을 위한 DataFrame 생성\n",
    "shap_importance = pd.DataFrame({\n",
    "    'feature': X_test.columns,\n",
    "    'importance': mean_abs_shap_values\n",
    "})\n",
    "\n",
    "# 중요도 정렬\n",
    "shap_importance = shap_importance.sort_values(by='importance', ascending=False)\n",
    "\n",
    "# 결과 출력\n",
    "print(shap_importance.head(60))"
   ]
  },
  {
   "cell_type": "code",
   "execution_count": 37,
   "metadata": {},
   "outputs": [],
   "source": [
    "# output file 할당후 save \n",
    "submission_df = submission_df.assign(target = y_test_pred_class)\n",
    "submission_df.to_csv(\"output_close.csv\", index=False)"
   ]
  },
  {
   "cell_type": "code",
   "execution_count": 38,
   "metadata": {},
   "outputs": [
    {
     "data": {
      "image/png": "[encoded data removed]",
      "text/plain": [
       "<Figure size 800x600 with 2 Axes>"
      ]
     },
     "metadata": {},
     "output_type": "display_data"
    }
   ],
   "source": [
    "from sklearn.metrics import confusion_matrix\n",
    "\n",
    "cm = confusion_matrix(y_valid, y_valid_pred_class)\n",
    "\n",
    "plt.figure(figsize=(8,6))\n",
    "sns.heatmap(cm, annot=True, cmap=\"Blues\", fmt='d', xticklabels=[0,1,2,3],yticklabels=[0,1,2,3])\n",
    "plt.xlabel(\"predicted\")\n",
    "plt.ylabel(\"actual\")\n",
    "plt.show()"
   ]
  },
  {
   "cell_type": "code",
   "execution_count": 39,
   "metadata": {},
   "outputs": [
    {
     "name": "stdout",
     "output_type": "stream",
     "text": [
      "0: 7\n",
      "1: 1246\n",
      "2: 1525\n",
      "3: 14\n"
     ]
    }
   ],
   "source": [
    "# 각 클래스의 개수 계산\n",
    "class_counts = np.bincount(y_test_pred_class, minlength=4)\n",
    "\n",
    "# 결과 출력\n",
    "for i, count in enumerate(class_counts):\n",
    "    print(f\"{i}: {count}\")"
   ]
  }
 ],
 "metadata": {
  "kernelspec": {
   "display_name": "myenv",
   "language": "python",
   "name": "python3"
  },
  "language_info": {
   "codemirror_mode": {
    "name": "ipython",
    "version": 3
   },
   "file_extension": ".py",
   "mimetype": "text/x-python",
   "name": "python",
   "nbconvert_exporter": "python",
   "pygments_lexer": "ipython3",
   "version": "3.11.10"
  }
 },
 "nbformat": 4,
 "nbformat_minor": 2
}
