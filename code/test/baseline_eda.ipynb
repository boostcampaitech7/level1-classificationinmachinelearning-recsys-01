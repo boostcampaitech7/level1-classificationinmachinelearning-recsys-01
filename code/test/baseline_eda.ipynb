{
 "cells": [
  {
   "cell_type": "markdown",
   "metadata": {},
   "source": [
    "#### library"
   ]
  },
  {
   "cell_type": "code",
   "execution_count": 46,
   "metadata": {},
   "outputs": [
    {
     "name": "stdout",
     "output_type": "stream",
     "text": [
      "2.4.1+cu121\n"
     ]
    }
   ],
   "source": [
    "import os\n",
    "from typing import List, Dict\n",
    "from tqdm import tqdm\n",
    "import numpy as np\n",
    "\n",
    "# visualization\n",
    "import matplotlib.pyplot as plt\n",
    "import pandas as pd\n",
    "import seaborn as sns\n",
    "from plotly.subplots import make_subplots\n",
    "import plotly.graph_objects as go\n",
    "\n",
    "# warning\n",
    "import warnings\n",
    "warnings.filterwarnings('ignore')\n",
    "\n",
    "# sklearn\n",
    "from sklearn.model_selection import train_test_split\n",
    "from sklearn.metrics import accuracy_score, roc_auc_score\n",
    "from sklearn.preprocessing import add_dummy_feature\n",
    "from sklearn.decomposition import PCA\n",
    "from sklearn.preprocessing import StandardScaler\n",
    "from sklearn.linear_model import ElasticNet\n",
    "from sklearn.ensemble import RandomForestRegressor\n",
    "from sklearn.metrics import mean_squared_error\n",
    "\n",
    "# statsmodel\n",
    "import statsmodels.api as sm\n",
    "from scipy import stats\n",
    "from statsmodels.stats.outliers_influence import variance_inflation_factor\n",
    "from statsmodels.tsa.seasonal import seasonal_decompose\n",
    "from pmdarima.arima import auto_arima\n",
    "from statsmodels.graphics.tsaplots import plot_acf,plot_pacf \n",
    "from statsmodels.tsa.stattools import adfuller, kpss\n",
    "from statsmodels.tsa.arima_model import ARIMA\n",
    "from statsmodels.tsa.arima_model import ARIMAResults\n",
    "from statsmodels.multivariate.manova import MANOVA\n",
    "\n",
    "\n",
    "# model\n",
    "import lightgbm as lgb\n",
    "import optuna\n",
    "import torch\n",
    "import torch.nn as nn\n",
    "import torch.nn.functional as F\n",
    "from torch.utils.data import DataLoader, TensorDataset, random_split\n",
    "import torch.optim as optim\n",
    "\n",
    "\n",
    "print(torch.__version__)"
   ]
  },
  {
   "cell_type": "markdown",
   "metadata": {},
   "source": [
    "#### data load"
   ]
  },
  {
   "cell_type": "code",
   "execution_count": 13,
   "metadata": {},
   "outputs": [],
   "source": [
    "# 파일 호출\n",
    "data_path: str = \"../../../data\"\n",
    "train_df: pd.DataFrame = pd.read_csv(os.path.join(data_path, \"train.csv\")).assign(_type=\"train\") # train 에는 _type = train \n",
    "test_df: pd.DataFrame = pd.read_csv(os.path.join(data_path, \"test.csv\")).assign(_type=\"test\") # test 에는 _type = test\n",
    "submission_df: pd.DataFrame = pd.read_csv(os.path.join(data_path, \"test.csv\")) # ID, target 열만 가진 데이터 미리 호출\n",
    "df: pd.DataFrame = pd.concat([train_df, test_df], axis=0)"
   ]
  },
  {
   "cell_type": "code",
   "execution_count": 14,
   "metadata": {},
   "outputs": [
    {
     "name": "stderr",
     "output_type": "stream",
     "text": [
      "100%|██████████| 107/107 [00:02<00:00, 37.79it/s]\n"
     ]
    }
   ],
   "source": [
    "# HOURLY_ 로 시작하는 .csv 파일 이름을 file_names 에 할딩\n",
    "file_names: List[str] = [\n",
    "    f for f in os.listdir(data_path) if f.startswith(\"HOURLY_\") and f.endswith(\".csv\")\n",
    "]\n",
    "\n",
    "# 파일명 : 데이터프레임으로 딕셔너리 형태로 저장\n",
    "file_dict: Dict[str, pd.DataFrame] = {\n",
    "    f.replace(\".csv\", \"\"): pd.read_csv(os.path.join(data_path, f)) for f in file_names\n",
    "}\n",
    "\n",
    "for _file_name, _df in tqdm(file_dict.items()):\n",
    "    # 열 이름 중복 방지를 위해 {_file_name.lower()}_{col.lower()}로 변경, datetime 열을 ID로 변경\n",
    "    _rename_rule = {\n",
    "        col: f\"{_file_name.lower()}_{col.lower()}\" if col != \"datetime\" else \"ID\"\n",
    "        for col in _df.columns\n",
    "    }\n",
    "    _df = _df.rename(_rename_rule, axis=1)\n",
    "    df = df.merge(_df, on=\"ID\", how=\"left\")\n"
   ]
  },
  {
   "cell_type": "markdown",
   "metadata": {},
   "source": [
    "#### baseline feature engineering"
   ]
  },
  {
   "cell_type": "code",
   "execution_count": 15,
   "metadata": {},
   "outputs": [],
   "source": [
    "eda_df = df.loc[df[\"_type\"] == \"train\"]"
   ]
  },
  {
   "cell_type": "code",
   "execution_count": 5,
   "metadata": {},
   "outputs": [
    {
     "data": {
      "text/plain": [
       "(11552, 19)"
      ]
     },
     "execution_count": 5,
     "metadata": {},
     "output_type": "execute_result"
    }
   ],
   "source": [
    "# 모델에 사용할 컬럼, 컬럼의 rename rule을 미리 할당함\n",
    "cols_dict: Dict[str, str] = {\n",
    "    \"ID\": \"ID\",\n",
    "    \"target\": \"target\",\n",
    "    \"_type\": \"_type\",\n",
    "    \"hourly_market-data_coinbase-premium-index_coinbase_premium_gap\": \"coinbase_premium_gap\",\n",
    "    \"hourly_market-data_coinbase-premium-index_coinbase_premium_index\": \"coinbase_premium_index\",\n",
    "    \"hourly_market-data_funding-rates_all_exchange_funding_rates\": \"funding_rates\",\n",
    "    \"hourly_market-data_liquidations_all_exchange_all_symbol_long_liquidations\": \"long_liquidations\",\n",
    "    \"hourly_market-data_liquidations_all_exchange_all_symbol_long_liquidations_usd\": \"long_liquidations_usd\",\n",
    "    \"hourly_market-data_liquidations_all_exchange_all_symbol_short_liquidations\": \"short_liquidations\",\n",
    "    \"hourly_market-data_liquidations_all_exchange_all_symbol_short_liquidations_usd\": \"short_liquidations_usd\",\n",
    "    \"hourly_market-data_open-interest_all_exchange_all_symbol_open_interest\": \"open_interest\",\n",
    "    \"hourly_market-data_taker-buy-sell-stats_all_exchange_taker_buy_ratio\": \"buy_ratio\",\n",
    "    \"hourly_market-data_taker-buy-sell-stats_all_exchange_taker_buy_sell_ratio\": \"buy_sell_ratio\",\n",
    "    \"hourly_market-data_taker-buy-sell-stats_all_exchange_taker_buy_volume\": \"buy_volume\",\n",
    "    \"hourly_market-data_taker-buy-sell-stats_all_exchange_taker_sell_ratio\": \"sell_ratio\",\n",
    "    \"hourly_market-data_taker-buy-sell-stats_all_exchange_taker_sell_volume\": \"sell_volume\",\n",
    "    \"hourly_network-data_addresses-count_addresses_count_active\": \"active_count\",\n",
    "    \"hourly_network-data_addresses-count_addresses_count_receiver\": \"receiver_count\",\n",
    "    \"hourly_network-data_addresses-count_addresses_count_sender\": \"sender_count\",\n",
    "}\n",
    "df = df[cols_dict.keys()].rename(cols_dict, axis=1)\n",
    "df.shape"
   ]
  },
  {
   "cell_type": "code",
   "execution_count": 6,
   "metadata": {},
   "outputs": [],
   "source": [
    "# eda 에서 파악한 차이와 차이의 음수, 양수 여부를 새로운 피쳐로 생성\n",
    "df = df.assign(\n",
    "    liquidation_diff=df[\"long_liquidations\"] - df[\"short_liquidations\"],\n",
    "    liquidation_usd_diff=df[\"long_liquidations_usd\"] - df[\"short_liquidations_usd\"],\n",
    "    volume_diff=df[\"buy_volume\"] - df[\"sell_volume\"],\n",
    "    liquidation_diffg=np.sign(df[\"long_liquidations\"] - df[\"short_liquidations\"]),\n",
    "    liquidation_usd_diffg=np.sign(df[\"long_liquidations_usd\"] - df[\"short_liquidations_usd\"]),\n",
    "    volume_diffg=np.sign(df[\"buy_volume\"] - df[\"sell_volume\"]),\n",
    "    buy_sell_volume_ratio=df[\"buy_volume\"] / (df[\"sell_volume\"] + 1),\n",
    ")\n",
    "# category, continuous 열을 따로 할당해둠\n",
    "category_cols: List[str] = [\"liquidation_diffg\", \"liquidation_usd_diffg\", \"volume_diffg\"]\n",
    "conti_cols: List[str] = [_ for _ in cols_dict.values() if _ not in [\"ID\", \"target\", \"_type\"]] + [\n",
    "    \"buy_sell_volume_ratio\",\n",
    "    \"liquidation_diff\",\n",
    "    \"liquidation_usd_diff\",\n",
    "    \"volume_diff\",\n",
    "]"
   ]
  },
  {
   "cell_type": "code",
   "execution_count": 7,
   "metadata": {},
   "outputs": [],
   "source": [
    "def shift_feature(\n",
    "    df: pd.DataFrame,\n",
    "    conti_cols: List[str],\n",
    "    intervals: List[int],\n",
    ") -> List[pd.Series]:\n",
    "    \"\"\"\n",
    "    연속형 변수의 shift feature 생성\n",
    "    Args:\n",
    "        df (pd.DataFrame)\n",
    "        conti_cols (List[str]): continuous colnames\n",
    "        intervals (List[int]): shifted intervals\n",
    "    Return:\n",
    "        List[pd.Series]\n",
    "    \"\"\"\n",
    "    df_shift_dict = [\n",
    "        df[conti_col].shift(interval).rename(f\"{conti_col}_{interval}\")\n",
    "        for conti_col in conti_cols\n",
    "        for interval in intervals\n",
    "    ]\n",
    "    return df_shift_dict\n",
    "\n",
    "# 최대 24시간의 shift 피쳐를 계산\n",
    "shift_list = shift_feature(\n",
    "    df=df, conti_cols=conti_cols, intervals=[_ for _ in range(1, 24)]\n",
    ")"
   ]
  },
  {
   "cell_type": "code",
   "execution_count": 8,
   "metadata": {},
   "outputs": [
    {
     "data": {
      "text/html": [
       "<div>\n",
       "<style scoped>\n",
       "    .dataframe tbody tr th:only-of-type {\n",
       "        vertical-align: middle;\n",
       "    }\n",
       "\n",
       "    .dataframe tbody tr th {\n",
       "        vertical-align: top;\n",
       "    }\n",
       "\n",
       "    .dataframe thead th {\n",
       "        text-align: right;\n",
       "    }\n",
       "</style>\n",
       "<table border=\"1\" class=\"dataframe\">\n",
       "  <thead>\n",
       "    <tr style=\"text-align: right;\">\n",
       "      <th></th>\n",
       "      <th>ID</th>\n",
       "      <th>target</th>\n",
       "      <th>_type</th>\n",
       "      <th>coinbase_premium_gap</th>\n",
       "      <th>coinbase_premium_index</th>\n",
       "      <th>funding_rates</th>\n",
       "      <th>long_liquidations</th>\n",
       "      <th>long_liquidations_usd</th>\n",
       "      <th>short_liquidations</th>\n",
       "      <th>short_liquidations_usd</th>\n",
       "      <th>...</th>\n",
       "      <th>volume_diff_14</th>\n",
       "      <th>volume_diff_15</th>\n",
       "      <th>volume_diff_16</th>\n",
       "      <th>volume_diff_17</th>\n",
       "      <th>volume_diff_18</th>\n",
       "      <th>volume_diff_19</th>\n",
       "      <th>volume_diff_20</th>\n",
       "      <th>volume_diff_21</th>\n",
       "      <th>volume_diff_22</th>\n",
       "      <th>volume_diff_23</th>\n",
       "    </tr>\n",
       "  </thead>\n",
       "  <tbody>\n",
       "    <tr>\n",
       "      <th>0</th>\n",
       "      <td>2023-01-01 00:00:00</td>\n",
       "      <td>2.0</td>\n",
       "      <td>train</td>\n",
       "      <td>-9.86</td>\n",
       "      <td>-0.059650</td>\n",
       "      <td>0.005049</td>\n",
       "      <td>0.012</td>\n",
       "      <td>197.5161</td>\n",
       "      <td>0.000</td>\n",
       "      <td>0.00000</td>\n",
       "      <td>...</td>\n",
       "      <td>NaN</td>\n",
       "      <td>NaN</td>\n",
       "      <td>NaN</td>\n",
       "      <td>NaN</td>\n",
       "      <td>NaN</td>\n",
       "      <td>NaN</td>\n",
       "      <td>NaN</td>\n",
       "      <td>NaN</td>\n",
       "      <td>NaN</td>\n",
       "      <td>NaN</td>\n",
       "    </tr>\n",
       "    <tr>\n",
       "      <th>1</th>\n",
       "      <td>2023-01-01 01:00:00</td>\n",
       "      <td>1.0</td>\n",
       "      <td>train</td>\n",
       "      <td>-8.78</td>\n",
       "      <td>-0.053047</td>\n",
       "      <td>0.005049</td>\n",
       "      <td>0.000</td>\n",
       "      <td>0.0000</td>\n",
       "      <td>0.712</td>\n",
       "      <td>11833.56104</td>\n",
       "      <td>...</td>\n",
       "      <td>NaN</td>\n",
       "      <td>NaN</td>\n",
       "      <td>NaN</td>\n",
       "      <td>NaN</td>\n",
       "      <td>NaN</td>\n",
       "      <td>NaN</td>\n",
       "      <td>NaN</td>\n",
       "      <td>NaN</td>\n",
       "      <td>NaN</td>\n",
       "      <td>NaN</td>\n",
       "    </tr>\n",
       "    <tr>\n",
       "      <th>2</th>\n",
       "      <td>2023-01-01 02:00:00</td>\n",
       "      <td>1.0</td>\n",
       "      <td>train</td>\n",
       "      <td>-9.59</td>\n",
       "      <td>-0.057952</td>\n",
       "      <td>0.005049</td>\n",
       "      <td>0.000</td>\n",
       "      <td>0.0000</td>\n",
       "      <td>0.000</td>\n",
       "      <td>0.00000</td>\n",
       "      <td>...</td>\n",
       "      <td>NaN</td>\n",
       "      <td>NaN</td>\n",
       "      <td>NaN</td>\n",
       "      <td>NaN</td>\n",
       "      <td>NaN</td>\n",
       "      <td>NaN</td>\n",
       "      <td>NaN</td>\n",
       "      <td>NaN</td>\n",
       "      <td>NaN</td>\n",
       "      <td>NaN</td>\n",
       "    </tr>\n",
       "  </tbody>\n",
       "</table>\n",
       "<p>3 rows × 486 columns</p>\n",
       "</div>"
      ],
      "text/plain": [
       "                    ID  target  _type  coinbase_premium_gap  \\\n",
       "0  2023-01-01 00:00:00     2.0  train                 -9.86   \n",
       "1  2023-01-01 01:00:00     1.0  train                 -8.78   \n",
       "2  2023-01-01 02:00:00     1.0  train                 -9.59   \n",
       "\n",
       "   coinbase_premium_index  funding_rates  long_liquidations  \\\n",
       "0               -0.059650       0.005049              0.012   \n",
       "1               -0.053047       0.005049              0.000   \n",
       "2               -0.057952       0.005049              0.000   \n",
       "\n",
       "   long_liquidations_usd  short_liquidations  short_liquidations_usd  ...  \\\n",
       "0               197.5161               0.000                 0.00000  ...   \n",
       "1                 0.0000               0.712             11833.56104  ...   \n",
       "2                 0.0000               0.000                 0.00000  ...   \n",
       "\n",
       "   volume_diff_14  volume_diff_15  volume_diff_16  volume_diff_17  \\\n",
       "0             NaN             NaN             NaN             NaN   \n",
       "1             NaN             NaN             NaN             NaN   \n",
       "2             NaN             NaN             NaN             NaN   \n",
       "\n",
       "   volume_diff_18  volume_diff_19  volume_diff_20  volume_diff_21  \\\n",
       "0             NaN             NaN             NaN             NaN   \n",
       "1             NaN             NaN             NaN             NaN   \n",
       "2             NaN             NaN             NaN             NaN   \n",
       "\n",
       "   volume_diff_22  volume_diff_23  \n",
       "0             NaN             NaN  \n",
       "1             NaN             NaN  \n",
       "2             NaN             NaN  \n",
       "\n",
       "[3 rows x 486 columns]"
      ]
     },
     "execution_count": 8,
     "metadata": {},
     "output_type": "execute_result"
    }
   ],
   "source": [
    "# concat 하여 df 에 할당\n",
    "df = pd.concat([df, pd.concat(shift_list, axis=1)], axis=1)\n",
    "df.head(3)"
   ]
  },
  {
   "cell_type": "code",
   "execution_count": 10,
   "metadata": {},
   "outputs": [
    {
     "data": {
      "text/plain": [
       "ID                           0\n",
       "target                    2792\n",
       "_type                        0\n",
       "coinbase_premium_gap         6\n",
       "coinbase_premium_index       6\n",
       "                          ... \n",
       "volume_diff_19              31\n",
       "volume_diff_20              31\n",
       "volume_diff_21              31\n",
       "volume_diff_22              31\n",
       "volume_diff_23              31\n",
       "Length: 486, dtype: int64"
      ]
     },
     "execution_count": 10,
     "metadata": {},
     "output_type": "execute_result"
    }
   ],
   "source": [
    "# 각 열에서 누락된 값의 수 & 백분율 계산\n",
    "missing_values = df.isnull().sum()\n",
    "missing_percentage = (missing_values / len(df)) * 100\n",
    "\n",
    "# 누락된 값 비율을 기준으로 열 정렬\n",
    "sorted_missing_percentage = missing_percentage.sort_values(ascending=False)\n",
    "missing_values"
   ]
  },
  {
   "cell_type": "code",
   "execution_count": null,
   "metadata": {},
   "outputs": [],
   "source": [
    "# concat 하여 df 에 할당\n",
    "df = pd.concat([df, pd.concat(shift_list, axis=1)], axis=1)\n",
    "\n",
    "# 타겟 변수를 제외한 변수를 forwardfill, -999로 결측치 대체\n",
    "_target = df[\"target\"]\n",
    "df = df.ffill().fillna(-999).assign(target = _target)\n",
    "\n",
    "# _type에 따라 train, test 분리\n",
    "train_df = df.loc[df[\"_type\"]==\"train\"].drop(columns=[\"_type\"])\n",
    "test_df = df.loc[df[\"_type\"]==\"test\"].drop(columns=[\"_type\"])"
   ]
  },
  {
   "cell_type": "markdown",
   "metadata": {},
   "source": [
    "* 애초에 df에서 list로 할당된 변수들만 사용했음\n",
    "* 때문에 해당 값들은 결측치가 거의 없음\n",
    "* 종가에 대한 데이터에 관련하여 변수추가를 진행함(진경이 데이터엔)\n",
    "* 종가의 거래량과 관련하여 변수추가도 고려해볼 필요가 있음"
   ]
  },
  {
   "cell_type": "markdown",
   "metadata": {},
   "source": [
    "#### new engineering"
   ]
  },
  {
   "cell_type": "markdown",
   "metadata": {},
   "source": [
    "1. elasticnet을 통한 변수 추출"
   ]
  },
  {
   "cell_type": "code",
   "execution_count": 21,
   "metadata": {},
   "outputs": [],
   "source": [
    "# missing value check\n",
    "\n",
    "train_df = eda_df.copy()\n",
    "# 각 열에서 누락된 값의 수 & 백분율 계산\n",
    "missing_values = train_df.isnull().sum()\n",
    "missing_percentage = (missing_values / len(train_df)) * 100\n",
    "\n",
    "# 누락된 값 비율을 기준으로 열 정렬\n",
    "sorted_missing_percentage = missing_percentage.sort_values(ascending=False)\n",
    "\n",
    "# missing_value의 비율이 100%가 아닌 column만 추출\n",
    "non_missing_columns = sorted_missing_percentage[sorted_missing_percentage != 100.0].index.tolist()\n",
    "non_missing_columns.remove('ID')\n",
    "non_missing_columns.remove('target')\n",
    "non_missing_columns.remove('_type')\n",
    "\n",
    "new_data = train_df[['ID','target', '_type'] + non_missing_columns]"
   ]
  },
  {
   "cell_type": "code",
   "execution_count": 22,
   "metadata": {},
   "outputs": [
    {
     "data": {
      "text/html": [
       "<div>\n",
       "<style scoped>\n",
       "    .dataframe tbody tr th:only-of-type {\n",
       "        vertical-align: middle;\n",
       "    }\n",
       "\n",
       "    .dataframe tbody tr th {\n",
       "        vertical-align: top;\n",
       "    }\n",
       "\n",
       "    .dataframe thead th {\n",
       "        text-align: right;\n",
       "    }\n",
       "</style>\n",
       "<table border=\"1\" class=\"dataframe\">\n",
       "  <thead>\n",
       "    <tr style=\"text-align: right;\">\n",
       "      <th></th>\n",
       "      <th>ID</th>\n",
       "      <th>target</th>\n",
       "      <th>_type</th>\n",
       "      <th>hourly_market-data_open-interest_binance_btc_busd_open_interest</th>\n",
       "      <th>hourly_market-data_liquidations_binance_btc_busd_short_liquidations_usd</th>\n",
       "      <th>hourly_market-data_liquidations_binance_btc_busd_long_liquidations</th>\n",
       "      <th>hourly_market-data_liquidations_binance_btc_busd_short_liquidations</th>\n",
       "      <th>hourly_market-data_liquidations_binance_btc_busd_long_liquidations_usd</th>\n",
       "      <th>hourly_market-data_funding-rates_bybit_funding_rates</th>\n",
       "      <th>hourly_market-data_taker-buy-sell-stats_bybit_taker_buy_volume</th>\n",
       "      <th>...</th>\n",
       "      <th>hourly_market-data_liquidations_binance_all_symbol_long_liquidations_usd</th>\n",
       "      <th>hourly_market-data_liquidations_binance_all_symbol_short_liquidations_usd</th>\n",
       "      <th>hourly_market-data_open-interest_htx_global_btc_usd_open_interest</th>\n",
       "      <th>hourly_network-data_addresses-count_addresses_count_receiver</th>\n",
       "      <th>hourly_network-data_fees_fees_total</th>\n",
       "      <th>hourly_network-data_fees_fees_total_usd</th>\n",
       "      <th>hourly_market-data_liquidations_htx_global_all_symbol_long_liquidations</th>\n",
       "      <th>hourly_market-data_liquidations_htx_global_all_symbol_short_liquidations</th>\n",
       "      <th>hourly_market-data_liquidations_htx_global_all_symbol_long_liquidations_usd</th>\n",
       "      <th>hourly_market-data_liquidations_htx_global_all_symbol_short_liquidations_usd</th>\n",
       "    </tr>\n",
       "  </thead>\n",
       "  <tbody>\n",
       "    <tr>\n",
       "      <th>0</th>\n",
       "      <td>2023-01-01 00:00:00</td>\n",
       "      <td>2.0</td>\n",
       "      <td>train</td>\n",
       "      <td>3.180371e+08</td>\n",
       "      <td>0.0</td>\n",
       "      <td>0.0</td>\n",
       "      <td>0.0</td>\n",
       "      <td>0.0</td>\n",
       "      <td>0.01</td>\n",
       "      <td>2015805.0</td>\n",
       "      <td>...</td>\n",
       "      <td>197.5161</td>\n",
       "      <td>0.00000</td>\n",
       "      <td>3.412540e+07</td>\n",
       "      <td>37752</td>\n",
       "      <td>0.561037</td>\n",
       "      <td>9271.503609</td>\n",
       "      <td>0.0</td>\n",
       "      <td>0.0</td>\n",
       "      <td>0.0</td>\n",
       "      <td>0.0</td>\n",
       "    </tr>\n",
       "    <tr>\n",
       "      <th>1</th>\n",
       "      <td>2023-01-01 01:00:00</td>\n",
       "      <td>1.0</td>\n",
       "      <td>train</td>\n",
       "      <td>3.183281e+08</td>\n",
       "      <td>0.0</td>\n",
       "      <td>0.0</td>\n",
       "      <td>0.0</td>\n",
       "      <td>0.0</td>\n",
       "      <td>0.01</td>\n",
       "      <td>4032601.0</td>\n",
       "      <td>...</td>\n",
       "      <td>0.0000</td>\n",
       "      <td>11833.56104</td>\n",
       "      <td>3.456750e+07</td>\n",
       "      <td>20534</td>\n",
       "      <td>0.256248</td>\n",
       "      <td>4237.095391</td>\n",
       "      <td>0.0</td>\n",
       "      <td>0.0</td>\n",
       "      <td>0.0</td>\n",
       "      <td>0.0</td>\n",
       "    </tr>\n",
       "    <tr>\n",
       "      <th>2</th>\n",
       "      <td>2023-01-01 02:00:00</td>\n",
       "      <td>1.0</td>\n",
       "      <td>train</td>\n",
       "      <td>3.179729e+08</td>\n",
       "      <td>0.0</td>\n",
       "      <td>0.0</td>\n",
       "      <td>0.0</td>\n",
       "      <td>0.0</td>\n",
       "      <td>0.01</td>\n",
       "      <td>857595.0</td>\n",
       "      <td>...</td>\n",
       "      <td>0.0000</td>\n",
       "      <td>0.00000</td>\n",
       "      <td>3.452090e+07</td>\n",
       "      <td>19369</td>\n",
       "      <td>0.312978</td>\n",
       "      <td>5176.614029</td>\n",
       "      <td>0.0</td>\n",
       "      <td>0.0</td>\n",
       "      <td>0.0</td>\n",
       "      <td>0.0</td>\n",
       "    </tr>\n",
       "  </tbody>\n",
       "</table>\n",
       "<p>3 rows × 215 columns</p>\n",
       "</div>"
      ],
      "text/plain": [
       "                    ID  target  _type  \\\n",
       "0  2023-01-01 00:00:00     2.0  train   \n",
       "1  2023-01-01 01:00:00     1.0  train   \n",
       "2  2023-01-01 02:00:00     1.0  train   \n",
       "\n",
       "   hourly_market-data_open-interest_binance_btc_busd_open_interest  \\\n",
       "0                                       3.180371e+08                 \n",
       "1                                       3.183281e+08                 \n",
       "2                                       3.179729e+08                 \n",
       "\n",
       "   hourly_market-data_liquidations_binance_btc_busd_short_liquidations_usd  \\\n",
       "0                                                0.0                         \n",
       "1                                                0.0                         \n",
       "2                                                0.0                         \n",
       "\n",
       "   hourly_market-data_liquidations_binance_btc_busd_long_liquidations  \\\n",
       "0                                                0.0                    \n",
       "1                                                0.0                    \n",
       "2                                                0.0                    \n",
       "\n",
       "   hourly_market-data_liquidations_binance_btc_busd_short_liquidations  \\\n",
       "0                                                0.0                     \n",
       "1                                                0.0                     \n",
       "2                                                0.0                     \n",
       "\n",
       "   hourly_market-data_liquidations_binance_btc_busd_long_liquidations_usd  \\\n",
       "0                                                0.0                        \n",
       "1                                                0.0                        \n",
       "2                                                0.0                        \n",
       "\n",
       "   hourly_market-data_funding-rates_bybit_funding_rates  \\\n",
       "0                                               0.01      \n",
       "1                                               0.01      \n",
       "2                                               0.01      \n",
       "\n",
       "   hourly_market-data_taker-buy-sell-stats_bybit_taker_buy_volume  ...  \\\n",
       "0                                          2015805.0               ...   \n",
       "1                                          4032601.0               ...   \n",
       "2                                           857595.0               ...   \n",
       "\n",
       "   hourly_market-data_liquidations_binance_all_symbol_long_liquidations_usd  \\\n",
       "0                                           197.5161                          \n",
       "1                                             0.0000                          \n",
       "2                                             0.0000                          \n",
       "\n",
       "   hourly_market-data_liquidations_binance_all_symbol_short_liquidations_usd  \\\n",
       "0                                            0.00000                           \n",
       "1                                        11833.56104                           \n",
       "2                                            0.00000                           \n",
       "\n",
       "   hourly_market-data_open-interest_htx_global_btc_usd_open_interest  \\\n",
       "0                                       3.412540e+07                   \n",
       "1                                       3.456750e+07                   \n",
       "2                                       3.452090e+07                   \n",
       "\n",
       "   hourly_network-data_addresses-count_addresses_count_receiver  \\\n",
       "0                                              37752              \n",
       "1                                              20534              \n",
       "2                                              19369              \n",
       "\n",
       "   hourly_network-data_fees_fees_total  \\\n",
       "0                             0.561037   \n",
       "1                             0.256248   \n",
       "2                             0.312978   \n",
       "\n",
       "   hourly_network-data_fees_fees_total_usd  \\\n",
       "0                              9271.503609   \n",
       "1                              4237.095391   \n",
       "2                              5176.614029   \n",
       "\n",
       "   hourly_market-data_liquidations_htx_global_all_symbol_long_liquidations  \\\n",
       "0                                                0.0                         \n",
       "1                                                0.0                         \n",
       "2                                                0.0                         \n",
       "\n",
       "   hourly_market-data_liquidations_htx_global_all_symbol_short_liquidations  \\\n",
       "0                                                0.0                          \n",
       "1                                                0.0                          \n",
       "2                                                0.0                          \n",
       "\n",
       "   hourly_market-data_liquidations_htx_global_all_symbol_long_liquidations_usd  \\\n",
       "0                                                0.0                             \n",
       "1                                                0.0                             \n",
       "2                                                0.0                             \n",
       "\n",
       "   hourly_market-data_liquidations_htx_global_all_symbol_short_liquidations_usd  \n",
       "0                                                0.0                             \n",
       "1                                                0.0                             \n",
       "2                                                0.0                             \n",
       "\n",
       "[3 rows x 215 columns]"
      ]
     },
     "execution_count": 22,
     "metadata": {},
     "output_type": "execute_result"
    }
   ],
   "source": [
    "# 이동평균으로 결측치 대체\n",
    "new_df_stab = new_data[non_missing_columns]\n",
    "\n",
    "# train\n",
    "window_size = 3\n",
    "new_df_stab = new_df_stab.apply(lambda col: col.fillna(col.rolling(window=window_size, min_periods=1).mean()))\n",
    "new_df_stab = new_df_stab.fillna(method='ffill').fillna(method='bfill')\n",
    "\n",
    "\n",
    "# 결측치 처리한 new_df 정의\n",
    "new_train_df = pd.concat([new_data[['ID','target','_type']], new_df_stab], axis=1)\n",
    "new_train_df.head(3)"
   ]
  },
  {
   "cell_type": "code",
   "execution_count": 30,
   "metadata": {},
   "outputs": [
    {
     "data": {
      "text/plain": [
       "212"
      ]
     },
     "execution_count": 30,
     "metadata": {},
     "output_type": "execute_result"
    }
   ],
   "source": [
    "# 데이터프레임에서 입력 데이터(X)와 타겟 변수(y)로 분리\n",
    "X = new_train_df.drop(columns=['target','ID','_type'])  # 'target'은 예측하려는 클래스\n",
    "y = new_train_df['target']\n",
    "\n",
    "# 2. 학습 데이터와 테스트 데이터 분리\n",
    "X_train, X_valid, y_train, y_valid = train_test_split(X, y, shuffle=False, test_size=0.2, random_state=42)\n",
    "\n",
    "# 3. 데이터 스케일링 (ElasticNet은 데이터 스케일에 민감하기 때문에 필요)\n",
    "scaler = StandardScaler()\n",
    "X_train_scaled = scaler.fit_transform(X_train)\n",
    "X_test_scaled = scaler.transform(X_valid)\n",
    "\n",
    "# 4. ElasticNet 모델 설정 및 학습\n",
    "elastic_net = ElasticNet(alpha=1.0, l1_ratio=0.5, random_state=42)\n",
    "elastic_net.fit(X_train_scaled, y_train)\n",
    "\n",
    "# 5. 학습된 모델을 사용해 중요 변수 추출\n",
    "# ElasticNet은 불필요한 변수의 계수를 0으로 만드므로, 중요 변수를 확인할 수 있음\n",
    "coefficients = elastic_net.coef_\n",
    "\n",
    "# 6. 피처 중요도 출력 (가중치가 0이 아닌 변수만 선택)\n",
    "feature_importance = pd.DataFrame({\n",
    "    'Feature': X.columns,\n",
    "    'Coefficient': coefficients\n",
    "})\n",
    "\n",
    "# 가중치가 0이 아닌 변수만 선택\n",
    "important_features = feature_importance[feature_importance['Coefficient'] != 0]\n",
    "important_features = important_features.sort_values(by='Coefficient', ascending=False)\n",
    "\n",
    "print(\"Selected Important Features:\")\n",
    "print(important_features)"
   ]
  },
  {
   "cell_type": "markdown",
   "metadata": {},
   "source": [
    "모든 column에 대해 유의미하지 않다고 결과가 나옴"
   ]
  },
  {
   "cell_type": "markdown",
   "metadata": {},
   "source": [
    "2. test에서 missing 100%인 데이터 모두 예측"
   ]
  },
  {
   "cell_type": "code",
   "execution_count": 32,
   "metadata": {},
   "outputs": [],
   "source": [
    "# nan or inf 데이터 여부 확인\n",
    "for col in non_missing_columns:\n",
    "    if (np.isnan(new_train_df[col]).any()) | (np.isinf(new_train_df[col]).any()):\n",
    "        print(col)\n",
    "        break"
   ]
  },
  {
   "cell_type": "code",
   "execution_count": 33,
   "metadata": {},
   "outputs": [],
   "source": [
    "test_df = df.loc[df[\"_type\"] == \"test\"]\n",
    "new_test_df = test_df[['ID','target','_type'] + non_missing_columns]\n",
    "\n",
    "new_test_stab = new_test_df[non_missing_columns]\n",
    "# test\n",
    "window_size = 3\n",
    "new_test_stab = new_test_stab.apply(lambda col: col.fillna(col.rolling(window=window_size, min_periods=1).mean()))\n",
    "new_test_stab = new_test_stab.fillna(method='ffill').fillna(method='bfill')\n",
    "\n",
    "new_test_df = pd.concat([new_test_df[['ID','target','_type']], new_test_stab], axis=1)"
   ]
  },
  {
   "cell_type": "code",
   "execution_count": 39,
   "metadata": {},
   "outputs": [
    {
     "data": {
      "text/plain": [
       "['hourly_market-data_open-interest_binance_btc_busd_open_interest',\n",
       " 'hourly_market-data_liquidations_binance_btc_busd_short_liquidations_usd',\n",
       " 'hourly_market-data_liquidations_binance_btc_busd_long_liquidations',\n",
       " 'hourly_market-data_liquidations_binance_btc_busd_short_liquidations',\n",
       " 'hourly_market-data_liquidations_binance_btc_busd_long_liquidations_usd',\n",
       " 'hourly_market-data_price-ohlcv_all_exchange_spot_btc_usd_volume']"
      ]
     },
     "execution_count": 39,
     "metadata": {},
     "output_type": "execute_result"
    }
   ],
   "source": [
    "# 결측치 비율을 계산\n",
    "missing_percentage = new_test_df.isnull().mean() * 100\n",
    "\n",
    "# 결측치 비율이 100%인 컬럼 이름만 출력\n",
    "columns_with_all_missing = missing_percentage[missing_percentage >= 50].index.tolist()\n",
    "\n",
    "# 100% 결측치가 있는 컬럼 출력\n",
    "columns_with_all_missing = [col for col in columns_with_all_missing if col not in ['target', 'hourly_market-data_price-ohlcv_all_exchange_spot_btc_usd_close']]\n",
    "columns_with_all_missing"
   ]
  },
  {
   "cell_type": "code",
   "execution_count": 47,
   "metadata": {},
   "outputs": [],
   "source": [
    "columns_with_all_missing_usd = [col for col in columns_with_all_missing if 'liquidations_usd' in col]\n",
    "columns_with_all_missing = [col for col in columns_with_all_missing if 'liquidations_usd'  not in col]\n"
   ]
  },
  {
   "cell_type": "code",
   "execution_count": 43,
   "metadata": {},
   "outputs": [],
   "source": [
    "# train_df와 test_df에서 columns_with_all_missing에 있는 컬럼 삭제\n",
    "new_train_df = new_train_df.drop(columns=columns_with_all_missing_usd, errors='ignore')\n",
    "new_test_df = new_test_df.drop(columns=columns_with_all_missing_usd, errors='ignore')"
   ]
  },
  {
   "cell_type": "code",
   "execution_count": 44,
   "metadata": {},
   "outputs": [],
   "source": [
    "# 이동평균을 기반으로 이상치를 처리하는 함수\n",
    "def replace_outlier(df, window=3, threshold=2):\n",
    "    df_cleaned = df.copy()\n",
    "    \n",
    "    # 숫자형 컬럼들에 대해 처리\n",
    "    for column in df_cleaned.select_dtypes(include=[np.number]).columns:\n",
    "        # 이동평균과 표준편차 계산\n",
    "        rolling_mean = df_cleaned[column].rolling(window=window, min_periods=1).mean()\n",
    "        rolling_std = df_cleaned[column].rolling(window=window, min_periods=1).std()\n",
    "\n",
    "        # 이상치 기준 설정\n",
    "        outliers = np.abs(df_cleaned[column] - rolling_mean) > (threshold * rolling_std)\n",
    "\n",
    "        # 이상치를 이동평균으로 대체\n",
    "        df_cleaned.loc[outliers, column] = rolling_mean[outliers]\n",
    "    \n",
    "    return df_cleaned\n",
    "\n",
    "# 이동평균 기반 이상치 처리 적용\n",
    "cleaned_train_df = replace_outlier(new_train_df)\n",
    "cleaned_test_df = replace_outlier(new_test_df)"
   ]
  },
  {
   "cell_type": "code",
   "execution_count": 45,
   "metadata": {},
   "outputs": [],
   "source": [
    "# Standardization으로 정규화\n",
    "from sklearn.preprocessing import StandardScaler\n",
    "\n",
    "def standardization(train_df, test_df):\n",
    "    features_to_scale = [col for col in train_df.columns if col not in ['ID', 'target', '_type']]\n",
    "\n",
    "    scaler = StandardScaler()\n",
    "\n",
    "    # 훈련 데이터 정규화\n",
    "    train_df_scaled = train_df.copy()\n",
    "    train_df_scaled[features_to_scale] = scaler.fit_transform(train_df[features_to_scale])\n",
    "\n",
    "    # 테스트 데이터 정규화\n",
    "    test_df_scaled = test_df.copy()\n",
    "    test_df_scaled[features_to_scale] = scaler.transform(test_df[features_to_scale])\n",
    "\n",
    "    return train_df_scaled, test_df_scaled\n",
    "\n",
    "# 함수 호출\n",
    "std_train_df, std_test_df = standardization(cleaned_train_df, cleaned_test_df)"
   ]
  },
  {
   "cell_type": "markdown",
   "metadata": {},
   "source": [
    "나머지 변수 예측 및 결측치 처리 진행"
   ]
  },
  {
   "cell_type": "code",
   "execution_count": 48,
   "metadata": {},
   "outputs": [],
   "source": [
    "std_train_df_imp = std_train_df.copy()\n",
    "std_test_df_imp = std_test_df.copy()"
   ]
  },
  {
   "cell_type": "code",
   "execution_count": 49,
   "metadata": {},
   "outputs": [],
   "source": [
    "# usd에 해당되는 변수는 제거하고 사용\n",
    "def random_forest_reg_with_col(train_data ,test_data, column):\n",
    "    y_train = train_data[col]\n",
    "    X_train = train_data.drop(columns=[col, 'ID', 'target', '_type'], errors='ignore')\n",
    "\n",
    "    # 훈련 데이터와 검증 데이터 나누기\n",
    "    X_train_split, X_val, y_train_split, y_val = train_test_split(X_train, y_train, shuffle=False, test_size=0.2, random_state=42)\n",
    "\n",
    "    # 모델 훈련\n",
    "    model = RandomForestRegressor()\n",
    "    model.fit(X_train_split, y_train_split)\n",
    "\n",
    "    # 검증 데이터에서 예측\n",
    "    y_val_pred = model.predict(X_val)\n",
    "\n",
    "    # 성능 평가\n",
    "    mse = mean_squared_error(y_val, y_val_pred)\n",
    "\n",
    "    # 전체 데이터에 대한 모델 훈련\n",
    "    model = RandomForestRegressor()\n",
    "    model.fit(X_train, y_train)\n",
    "\n",
    "    # test_df에서 예측\n",
    "    X_test = test_data.drop(columns=[col, 'ID', 'target', '_type'], errors='ignore')\n",
    "    y_pred = model.predict(X_test)\n",
    "\n",
    "    return y_pred"
   ]
  },
  {
   "cell_type": "code",
   "execution_count": null,
   "metadata": {},
   "outputs": [],
   "source": [
    "# 너무 오래걸린다\n",
    "for col in columns_with_all_missing:\n",
    "    y_predict = random_forest_reg_with_col(std_train_df_imp, std_test_df_imp, col)\n",
    "    std_test_df[col] = y_predict\n",
    "    print(f'{col} train finish')"
   ]
  },
  {
   "cell_type": "code",
   "execution_count": null,
   "metadata": {},
   "outputs": [],
   "source": [
    "std_test_df.head(3)"
   ]
  },
  {
   "cell_type": "code",
   "execution_count": null,
   "metadata": {},
   "outputs": [],
   "source": [
    "std_train_df[columns_with_all_missing[0]]"
   ]
  },
  {
   "cell_type": "code",
   "execution_count": 56,
   "metadata": {},
   "outputs": [
    {
     "data": {
      "image/png": "[encoded data removed]",
      "text/plain": [
       "<Figure size 1000x600 with 1 Axes>"
      ]
     },
     "metadata": {},
     "output_type": "display_data"
    }
   ],
   "source": [
    "plt.figure(figsize=(10,6))\n",
    "sns.lineplot(data=std_train_df, x='ID', y = columns_with_all_missing[0])\n",
    "plt.show()"
   ]
  },
  {
   "cell_type": "code",
   "execution_count": 57,
   "metadata": {},
   "outputs": [
    {
     "data": {
      "image/png": "[encoded data removed]",
      "text/plain": [
       "<Figure size 1000x600 with 1 Axes>"
      ]
     },
     "metadata": {},
     "output_type": "display_data"
    }
   ],
   "source": [
    "plt.figure(figsize=(10,6))\n",
    "sns.lineplot(data=std_train_df, x='ID', y = columns_with_all_missing[1])\n",
    "plt.show()"
   ]
  },
  {
   "cell_type": "code",
   "execution_count": 58,
   "metadata": {},
   "outputs": [
    {
     "data": {
      "image/png": "[encoded data removed]",
      "text/plain": [
       "<Figure size 1000x600 with 1 Axes>"
      ]
     },
     "metadata": {},
     "output_type": "display_data"
    }
   ],
   "source": [
    "plt.figure(figsize=(10,6))\n",
    "sns.lineplot(data=std_train_df, x='ID', y = columns_with_all_missing[2])\n",
    "plt.show()"
   ]
  },
  {
   "cell_type": "code",
   "execution_count": 59,
   "metadata": {},
   "outputs": [
    {
     "data": {
      "image/png": "[encoded data removed]",
      "text/plain": [
       "<Figure size 1000x600 with 1 Axes>"
      ]
     },
     "metadata": {},
     "output_type": "display_data"
    }
   ],
   "source": [
    "plt.figure(figsize=(10,6))\n",
    "sns.lineplot(data=std_train_df, x='ID', y = columns_with_all_missing[3])\n",
    "plt.show()"
   ]
  },
  {
   "cell_type": "code",
   "execution_count": null,
   "metadata": {},
   "outputs": [],
   "source": []
  }
 ],
 "metadata": {
  "kernelspec": {
   "display_name": ".venv",
   "language": "python",
   "name": "python3"
  },
  "language_info": {
   "codemirror_mode": {
    "name": "ipython",
    "version": 3
   },
   "file_extension": ".py",
   "mimetype": "text/x-python",
   "name": "python",
   "nbconvert_exporter": "python",
   "pygments_lexer": "ipython3",
   "version": "3.11.0"
  }
 },
 "nbformat": 4,
 "nbformat_minor": 2
}
